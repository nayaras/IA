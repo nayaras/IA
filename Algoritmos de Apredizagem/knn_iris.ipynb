{
 "cells": [
  {
   "cell_type": "markdown",
   "metadata": {},
   "source": [
    "# KNN com a base iris\n",
    "\n",
    "Disciplina: Inteligência Artificial <br/>\n",
    "Instituto Federal do Norte de Minas Gerais Campus Montes Claros <br/>\n",
    "Curso: Ciência da Computação <br/>\n",
    "Professora: Luciana Balieiro Cosme<br/>\n",
    "Desenvolvido por: Nayara Thaiza P. Soares <br/>\n",
    "\n",
    "**Objetivo: Realizar classificação com o algoritmo knn na base iris** <br/>"
   ]
  },
  {
   "cell_type": "code",
   "execution_count": 1,
   "metadata": {},
   "outputs": [],
   "source": [
    "#imports\n",
    "import numpy as np  \n",
    "import pandas as pd  \n",
    "import random\n",
    "import math\n",
    "import operator\n",
    "#dados\n",
    "from sklearn import datasets\n",
    "#plot\n",
    "import matplotlib.pyplot as plt\n",
    "\n",
    "\n",
    "\n",
    "iris = datasets.load_iris()\n",
    "\n",
    "dataset = pd.DataFrame(iris.data) \n",
    "dataset = dataset.astype('float64') # converte para float\n",
    "dataset.columns = iris.feature_names\n",
    "dataset['tipo'] = iris.target \n",
    "\n"
   ]
  },
  {
   "cell_type": "code",
   "execution_count": 2,
   "metadata": {
    "scrolled": true
   },
   "outputs": [
    {
     "name": "stdout",
     "output_type": "stream",
     "text": [
      "Numero de observações (linhas): 150\n",
      "Numero de caracteristicas: 5\n"
     ]
    },
    {
     "data": {
      "text/html": [
       "<div>\n",
       "<style scoped>\n",
       "    .dataframe tbody tr th:only-of-type {\n",
       "        vertical-align: middle;\n",
       "    }\n",
       "\n",
       "    .dataframe tbody tr th {\n",
       "        vertical-align: top;\n",
       "    }\n",
       "\n",
       "    .dataframe thead th {\n",
       "        text-align: right;\n",
       "    }\n",
       "</style>\n",
       "<table border=\"1\" class=\"dataframe\">\n",
       "  <thead>\n",
       "    <tr style=\"text-align: right;\">\n",
       "      <th></th>\n",
       "      <th>sepal length (cm)</th>\n",
       "      <th>sepal width (cm)</th>\n",
       "      <th>petal length (cm)</th>\n",
       "      <th>petal width (cm)</th>\n",
       "      <th>tipo</th>\n",
       "    </tr>\n",
       "  </thead>\n",
       "  <tbody>\n",
       "    <tr>\n",
       "      <th>0</th>\n",
       "      <td>5.1</td>\n",
       "      <td>3.5</td>\n",
       "      <td>1.4</td>\n",
       "      <td>0.2</td>\n",
       "      <td>0</td>\n",
       "    </tr>\n",
       "    <tr>\n",
       "      <th>1</th>\n",
       "      <td>4.9</td>\n",
       "      <td>3.0</td>\n",
       "      <td>1.4</td>\n",
       "      <td>0.2</td>\n",
       "      <td>0</td>\n",
       "    </tr>\n",
       "    <tr>\n",
       "      <th>2</th>\n",
       "      <td>4.7</td>\n",
       "      <td>3.2</td>\n",
       "      <td>1.3</td>\n",
       "      <td>0.2</td>\n",
       "      <td>0</td>\n",
       "    </tr>\n",
       "    <tr>\n",
       "      <th>3</th>\n",
       "      <td>4.6</td>\n",
       "      <td>3.1</td>\n",
       "      <td>1.5</td>\n",
       "      <td>0.2</td>\n",
       "      <td>0</td>\n",
       "    </tr>\n",
       "    <tr>\n",
       "      <th>4</th>\n",
       "      <td>5.0</td>\n",
       "      <td>3.6</td>\n",
       "      <td>1.4</td>\n",
       "      <td>0.2</td>\n",
       "      <td>0</td>\n",
       "    </tr>\n",
       "    <tr>\n",
       "      <th>5</th>\n",
       "      <td>5.4</td>\n",
       "      <td>3.9</td>\n",
       "      <td>1.7</td>\n",
       "      <td>0.4</td>\n",
       "      <td>0</td>\n",
       "    </tr>\n",
       "    <tr>\n",
       "      <th>6</th>\n",
       "      <td>4.6</td>\n",
       "      <td>3.4</td>\n",
       "      <td>1.4</td>\n",
       "      <td>0.3</td>\n",
       "      <td>0</td>\n",
       "    </tr>\n",
       "    <tr>\n",
       "      <th>7</th>\n",
       "      <td>5.0</td>\n",
       "      <td>3.4</td>\n",
       "      <td>1.5</td>\n",
       "      <td>0.2</td>\n",
       "      <td>0</td>\n",
       "    </tr>\n",
       "    <tr>\n",
       "      <th>8</th>\n",
       "      <td>4.4</td>\n",
       "      <td>2.9</td>\n",
       "      <td>1.4</td>\n",
       "      <td>0.2</td>\n",
       "      <td>0</td>\n",
       "    </tr>\n",
       "    <tr>\n",
       "      <th>9</th>\n",
       "      <td>4.9</td>\n",
       "      <td>3.1</td>\n",
       "      <td>1.5</td>\n",
       "      <td>0.1</td>\n",
       "      <td>0</td>\n",
       "    </tr>\n",
       "  </tbody>\n",
       "</table>\n",
       "</div>"
      ],
      "text/plain": [
       "   sepal length (cm)  sepal width (cm)  petal length (cm)  petal width (cm)  \\\n",
       "0                5.1               3.5                1.4               0.2   \n",
       "1                4.9               3.0                1.4               0.2   \n",
       "2                4.7               3.2                1.3               0.2   \n",
       "3                4.6               3.1                1.5               0.2   \n",
       "4                5.0               3.6                1.4               0.2   \n",
       "5                5.4               3.9                1.7               0.4   \n",
       "6                4.6               3.4                1.4               0.3   \n",
       "7                5.0               3.4                1.5               0.2   \n",
       "8                4.4               2.9                1.4               0.2   \n",
       "9                4.9               3.1                1.5               0.1   \n",
       "\n",
       "   tipo  \n",
       "0     0  \n",
       "1     0  \n",
       "2     0  \n",
       "3     0  \n",
       "4     0  \n",
       "5     0  \n",
       "6     0  \n",
       "7     0  \n",
       "8     0  \n",
       "9     0  "
      ]
     },
     "execution_count": 2,
     "metadata": {},
     "output_type": "execute_result"
    }
   ],
   "source": [
    "#quantitativo dos dados\n",
    "observ = len(iris.data)\n",
    "carac = len(dataset.columns)\n",
    "print(\"Numero de observações (linhas): \" + str(observ))\n",
    "print(\"Numero de caracteristicas: \" + str(carac))\n",
    "dataset.head(10)\n",
    "\n"
   ]
  },
  {
   "cell_type": "code",
   "execution_count": 6,
   "metadata": {},
   "outputs": [
    {
     "data": {
      "text/plain": [
       "Text(0, 0.5, 'Sepal Width')"
      ]
     },
     "execution_count": 6,
     "metadata": {},
     "output_type": "execute_result"
    },
    {
     "data": {
      "image/png": "[encoded data removed]",
      "text/plain": [
       "<Figure size 432x288 with 1 Axes>"
      ]
     },
     "metadata": {
      "needs_background": "light"
     },
     "output_type": "display_data"
    }
   ],
   "source": [
    "#sepal width e sepal length dos tres tipos de flores\n",
    "X = iris.data[:, :2]\n",
    "y = iris.target\n",
    "plt.scatter(X[:,0], X[:,1], c=y, cmap='gist_rainbow')\n",
    "plt.xlabel('Sepal Length', fontsize=18)\n",
    "plt.ylabel('Sepal Width', fontsize=18)"
   ]
  },
  {
   "cell_type": "markdown",
   "metadata": {},
   "source": [
    "**Função: split (responsável por dividir a base entre conjunto de teste e conjunto de treinamento)** <br/>\n",
    "Divide a base de forma aleatória com apoio do num_split como uma aproximação de proporção dos tamanhos."
   ]
  },
  {
   "cell_type": "code",
   "execution_count": 3,
   "metadata": {},
   "outputs": [
    {
     "name": "stdout",
     "output_type": "stream",
     "text": [
      "Quantidade no conjunto de treinamento: 94\n",
      "Quantidade no conjunto de teste: 56\n"
     ]
    }
   ],
   "source": [
    "#transformando em lista\n",
    "dataset = dataset.values.tolist()\n",
    "\n",
    "#dividindo a amostra entre conjunto de treinamento e conjunto de teste\n",
    "def split(trainingSet, testSet, split_num):\n",
    "    for i in range(len(dataset)):\n",
    "        if(random.random() < split_num):\n",
    "            trainingSet.append(dataset[i])\n",
    "        else:\n",
    "            testSet.append(dataset[i])\n",
    "        \n",
    "    return trainingSet, testSet\n",
    "\n",
    "trainingSet = []\n",
    "testSet = []\n",
    "split_num = 0.67\n",
    "split(trainingSet, testSet, split_num);\n",
    "print(\"Quantidade no conjunto de treinamento: \" + str(len(trainingSet)))\n",
    "print(\"Quantidade no conjunto de teste: \" + str(len(testSet)))"
   ]
  },
  {
   "cell_type": "markdown",
   "metadata": {},
   "source": [
    "**Funções: dist_euclidiana (calcula a distância euclidiana entre dois vetores), getNeighbors (retorna vizinhos com maiores semelhanças), getResponse (prevê a resposta com base no voto do vizinho), accuracy (analisa a porcentagem de acerto das predições)** <br/><br/>\n",
    "**dist_euclidiana:** Dados dois vetores como parametros é calculado a distância euclidiana entre eles.<br/>\n",
    "**getNeighbors:** Responsável por coletar os vizinhos com maiores semelhanças baseado na distância euclidiana, recebe o vetor de treinamento e uma instância do vetor de teste e um k, que é o número de vizinhos retornados. <br/>\n",
    "**getResponse:** Pega os vizinhos selecionados, e realiza uma votação para predizer qual deve ser a resposta do objeto classificado (no nosso exemplo, o tipo de flor). <br/>\n",
    "**accuracy:** Recebe como parâmetro o conjunto de teste e o resultado da votação baseada nos vizinhos e verifica a porcentagem de acerto.\n",
    "\n"
   ]
  },
  {
   "cell_type": "code",
   "execution_count": 4,
   "metadata": {},
   "outputs": [],
   "source": [
    "# Distância Euclidiana\n",
    "def dist_euclidiana(v1, v2):\n",
    "    dim = len(v2)\n",
    "    soma = 0\n",
    "    # loop sem pegar a última coluna pq é a saída (dim - 1)\n",
    "    for i in range(dim - 1):\n",
    "        soma += math.pow(v1[i] - v2[i], 2)\n",
    "    return math.sqrt(soma)\n",
    "\n",
    "def getNeighbors(trainingSet, testInstance, k):\n",
    "    distances = []\n",
    "    length = len(testInstance)-1\n",
    "    for x in range(len(trainingSet)):\n",
    "        dist = dist_euclidiana(testInstance, trainingSet[x])\n",
    "        distances.append((trainingSet[x], dist))\n",
    "    distances.sort(key=operator.itemgetter(1))\n",
    "    neighbors = []\n",
    "    for x in range(k):\n",
    "        neighbors.append(distances[x][0])\n",
    "    return neighbors\n",
    "\n",
    "def getResponse(neighbors):\n",
    "    classVotes = {}\n",
    "    for x in range(len(neighbors)):\n",
    "        response = neighbors[x][-1]\n",
    "        if response in classVotes:\n",
    "            classVotes[response] += 1\n",
    "        else:\n",
    "            classVotes[response] = 1\n",
    "    sortedVotes = sorted(classVotes.items(), key=operator.itemgetter(1), reverse=True)\n",
    "    return sortedVotes[0][0]\n",
    "\n",
    "def accuracy(testSet, predictions):\n",
    "    correct = 0\n",
    "    for x in range(len(testSet)):\n",
    "        if testSet[x][-1] == predictions[x]:\n",
    "            correct += 1\n",
    "    return (correct/float(len(testSet))) * 100.0"
   ]
  },
  {
   "cell_type": "markdown",
   "metadata": {},
   "source": [
    "**Chamando as funções e apresentando os resultados**"
   ]
  },
  {
   "cell_type": "code",
   "execution_count": 5,
   "metadata": {},
   "outputs": [
    {
     "name": "stdout",
     "output_type": "stream",
     "text": [
      "> previsto = 0.0, atual = 0.0\n",
      "> previsto = 0.0, atual = 0.0\n",
      "> previsto = 0.0, atual = 0.0\n",
      "> previsto = 0.0, atual = 0.0\n",
      "> previsto = 0.0, atual = 0.0\n",
      "> previsto = 0.0, atual = 0.0\n",
      "> previsto = 0.0, atual = 0.0\n",
      "> previsto = 0.0, atual = 0.0\n",
      "> previsto = 0.0, atual = 0.0\n",
      "> previsto = 0.0, atual = 0.0\n",
      "> previsto = 0.0, atual = 0.0\n",
      "> previsto = 0.0, atual = 0.0\n",
      "> previsto = 0.0, atual = 0.0\n",
      "> previsto = 0.0, atual = 0.0\n",
      "> previsto = 0.0, atual = 0.0\n",
      "> previsto = 0.0, atual = 0.0\n",
      "> previsto = 0.0, atual = 0.0\n",
      "> previsto = 0.0, atual = 0.0\n",
      "> previsto = 0.0, atual = 0.0\n",
      "> previsto = 1.0, atual = 1.0\n",
      "> previsto = 1.0, atual = 1.0\n",
      "> previsto = 1.0, atual = 1.0\n",
      "> previsto = 1.0, atual = 1.0\n",
      "> previsto = 1.0, atual = 1.0\n",
      "> previsto = 1.0, atual = 1.0\n",
      "> previsto = 1.0, atual = 1.0\n",
      "> previsto = 1.0, atual = 1.0\n",
      "> previsto = 1.0, atual = 1.0\n",
      "> previsto = 1.0, atual = 1.0\n",
      "> previsto = 1.0, atual = 1.0\n",
      "> previsto = 1.0, atual = 1.0\n",
      "> previsto = 1.0, atual = 1.0\n",
      "> previsto = 1.0, atual = 1.0\n",
      "> previsto = 1.0, atual = 1.0\n",
      "> previsto = 1.0, atual = 1.0\n",
      "> previsto = 1.0, atual = 1.0\n",
      "> previsto = 2.0, atual = 2.0\n",
      "> previsto = 2.0, atual = 2.0\n",
      "> previsto = 2.0, atual = 2.0\n",
      "> previsto = 2.0, atual = 2.0\n",
      "> previsto = 2.0, atual = 2.0\n",
      "> previsto = 2.0, atual = 2.0\n",
      "> previsto = 2.0, atual = 2.0\n",
      "> previsto = 2.0, atual = 2.0\n",
      "> previsto = 2.0, atual = 2.0\n",
      "> previsto = 2.0, atual = 2.0\n",
      "> previsto = 2.0, atual = 2.0\n",
      "> previsto = 1.0, atual = 2.0\n",
      "> previsto = 2.0, atual = 2.0\n",
      "> previsto = 2.0, atual = 2.0\n",
      "> previsto = 2.0, atual = 2.0\n",
      "> previsto = 2.0, atual = 2.0\n",
      "> previsto = 2.0, atual = 2.0\n",
      "> previsto = 2.0, atual = 2.0\n",
      "> previsto = 1.0, atual = 2.0\n",
      "> previsto = 2.0, atual = 2.0\n",
      " \n",
      "Porcentagem de acerto: 96.42857142857143%\n"
     ]
    }
   ],
   "source": [
    "k = 3\n",
    "predicoes = []\n",
    "for x in range(len(testSet)):\n",
    "    vizinhos=getNeighbors(trainingSet, testSet[x], k)\n",
    "    result = getResponse(vizinhos)\n",
    "    predicoes.append(result)\n",
    "    print('> previsto = ' + repr(result) + ', atual = ' + repr(testSet[x][-1]))\n",
    "accurac = accuracy(testSet, predicoes)\n",
    "print(\" \")\n",
    "print('Porcentagem de acerto: ' + repr(accurac) + '%')\n"
   ]
  },
  {
   "cell_type": "markdown",
   "metadata": {},
   "source": [
    "**Conclusão** <br/>\n",
    "É possível perceber que, como os conjuntos de teste e treinamento são definidos aleatoriamente, não há como prever a quantidade de vizinhos (k) que dê o melhor resultado. Entretanto, após alguns testes, rodando novos conjuntos e simulando quantidade de vizinhos, temos que para 1 < k < 6 quase sempre tem uma previsão acima de 90% de acerto. <br/><br/>\n",
    "\n",
    "**Referências** <br/>\n",
    "https://medium.com/brasil-ai/knn-k-nearest-neighbors-1-e140c82e9c4e  <br />\n",
    "https://machinelearningmastery.com/tutorial-to-implement-k-nearest-neighbors-in-python-from-scratch/\n",
    "\n"
   ]
  },
  {
   "cell_type": "code",
   "execution_count": null,
   "metadata": {},
   "outputs": [],
   "source": []
  }
 ],
 "metadata": {
  "kernelspec": {
   "display_name": "Python 3",
   "language": "python",
   "name": "python3"
  },
  "language_info": {
   "codemirror_mode": {
    "name": "ipython",
    "version": 3
   },
   "file_extension": ".py",
   "mimetype": "text/x-python",
   "name": "python",
   "nbconvert_exporter": "python",
   "pygments_lexer": "ipython3",
   "version": "3.7.1"
  }
 },
 "nbformat": 4,
 "nbformat_minor": 2
}
