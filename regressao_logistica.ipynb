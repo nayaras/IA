{
  "nbformat": 4,
  "nbformat_minor": 0,
  "metadata": {
    "colab": {
      "name": "regressao_logistica.ipynb",
      "version": "0.3.2",
      "provenance": [],
      "collapsed_sections": [],
      "include_colab_link": true
    },
    "kernelspec": {
      "name": "python3",
      "display_name": "Python 3"
    }
  },
  "cells": [
    {
      "cell_type": "markdown",
      "metadata": {
        "id": "view-in-github",
        "colab_type": "text"
      },
      "source": [
        "<a href=\"https://colab.research.google.com/github/nayaras/IA/blob/master/regressao_logistica.ipynb\" target=\"_parent\"><img src=\"https://colab.research.google.com/assets/colab-badge.svg\" alt=\"Open In Colab\"/></a>"
      ]
    },
    {
      "cell_type": "markdown",
      "metadata": {
        "id": "mAU_zon_R6cY",
        "colab_type": "text"
      },
      "source": [
        "# Regressão Logística\n",
        "\n",
        "---\n",
        "Instituto Federal do Norte de Minas Gerais Campus Montes Claros <br/>\n",
        "\n",
        "Disciplina: Inteligência Artificial <br/>\n",
        "Curso: Ciência da Computação  <br/>\n",
        "Professora: Luciana Balieiro Cosme  <br/>\n",
        "Desenvolvido por: Eike Stálei, Marianna Leandra M. Silva, Nayara Thaiza P. Soares \n",
        "\n",
        "\n",
        "---\n",
        "\n",
        "A regressão logística é usada em problemas de classificação binária com os quais o objetivo é separar previsões em duas classes distintas com base em um limite de probabilidade.\n"
      ]
    },
    {
      "cell_type": "code",
      "metadata": {
        "id": "HfNBRzarR0pY",
        "colab_type": "code",
        "outputId": "9a8c9305-cb70-4e7f-e485-baff42779e25",
        "colab": {
          "base_uri": "https://localhost:8080/",
          "height": 904
        }
      },
      "source": [
        "#importações\n",
        "import numpy as np  \n",
        "import pandas as pd  \n",
        "import random\n",
        "import math\n",
        "import operator\n",
        "from numpy import genfromtxt\n",
        "from random import randrange\n",
        "#dados\n",
        "from sklearn import datasets\n",
        "from sklearn.datasets import load_boston\n",
        "#plot\n",
        "import matplotlib.pyplot as plt\n",
        "\n",
        "#regressão logistica\n",
        "from sklearn.linear_model import LogisticRegression\n",
        "from sklearn.metrics import accuracy_score\n",
        "from sklearn.preprocessing import StandardScaler, PolynomialFeatures\n",
        "from sklearn.model_selection import train_test_split, GridSearchCV\n",
        "\n",
        "\n",
        "\n",
        "boston = load_boston()\n",
        "#itens da base\n",
        "boston.keys()\n",
        "\n",
        "print(boston.DESCR)\n",
        "\n",
        "\n",
        "\n"
      ],
      "execution_count": 1,
      "outputs": [
        {
          "output_type": "stream",
          "text": [
            ".. _boston_dataset:\n",
            "\n",
            "Boston house prices dataset\n",
            "---------------------------\n",
            "\n",
            "**Data Set Characteristics:**  \n",
            "\n",
            "    :Number of Instances: 506 \n",
            "\n",
            "    :Number of Attributes: 13 numeric/categorical predictive. Median Value (attribute 14) is usually the target.\n",
            "\n",
            "    :Attribute Information (in order):\n",
            "        - CRIM     per capita crime rate by town\n",
            "        - ZN       proportion of residential land zoned for lots over 25,000 sq.ft.\n",
            "        - INDUS    proportion of non-retail business acres per town\n",
            "        - CHAS     Charles River dummy variable (= 1 if tract bounds river; 0 otherwise)\n",
            "        - NOX      nitric oxides concentration (parts per 10 million)\n",
            "        - RM       average number of rooms per dwelling\n",
            "        - AGE      proportion of owner-occupied units built prior to 1940\n",
            "        - DIS      weighted distances to five Boston employment centres\n",
            "        - RAD      index of accessibility to radial highways\n",
            "        - TAX      full-value property-tax rate per $10,000\n",
            "        - PTRATIO  pupil-teacher ratio by town\n",
            "        - B        1000(Bk - 0.63)^2 where Bk is the proportion of blacks by town\n",
            "        - LSTAT    % lower status of the population\n",
            "        - MEDV     Median value of owner-occupied homes in $1000's\n",
            "\n",
            "    :Missing Attribute Values: None\n",
            "\n",
            "    :Creator: Harrison, D. and Rubinfeld, D.L.\n",
            "\n",
            "This is a copy of UCI ML housing dataset.\n",
            "https://archive.ics.uci.edu/ml/machine-learning-databases/housing/\n",
            "\n",
            "\n",
            "This dataset was taken from the StatLib library which is maintained at Carnegie Mellon University.\n",
            "\n",
            "The Boston house-price data of Harrison, D. and Rubinfeld, D.L. 'Hedonic\n",
            "prices and the demand for clean air', J. Environ. Economics & Management,\n",
            "vol.5, 81-102, 1978.   Used in Belsley, Kuh & Welsch, 'Regression diagnostics\n",
            "...', Wiley, 1980.   N.B. Various transformations are used in the table on\n",
            "pages 244-261 of the latter.\n",
            "\n",
            "The Boston house-price data has been used in many machine learning papers that address regression\n",
            "problems.   \n",
            "     \n",
            ".. topic:: References\n",
            "\n",
            "   - Belsley, Kuh & Welsch, 'Regression diagnostics: Identifying Influential Data and Sources of Collinearity', Wiley, 1980. 244-261.\n",
            "   - Quinlan,R. (1993). Combining Instance-Based and Model-Based Learning. In Proceedings on the Tenth International Conference of Machine Learning, 236-243, University of Massachusetts, Amherst. Morgan Kaufmann.\n",
            "\n"
          ],
          "name": "stdout"
        }
      ]
    },
    {
      "cell_type": "code",
      "metadata": {
        "id": "AD4837zjV2Dy",
        "colab_type": "code",
        "outputId": "889a75d1-7ccb-44fb-db0d-4c193b0c5311",
        "colab": {
          "base_uri": "https://localhost:8080/",
          "height": 359
        }
      },
      "source": [
        "#converte a base de dados\n",
        "import pandas\n",
        "\n",
        "dataset = pandas.DataFrame(boston.data) \n",
        "dataset = dataset.astype('float64') # converte para float\n",
        "dataset.columns = boston.feature_names\n",
        "\n",
        "dataset.head(10)\n",
        "\n"
      ],
      "execution_count": 2,
      "outputs": [
        {
          "output_type": "execute_result",
          "data": {
            "text/html": [
              "<div>\n",
              "<style scoped>\n",
              "    .dataframe tbody tr th:only-of-type {\n",
              "        vertical-align: middle;\n",
              "    }\n",
              "\n",
              "    .dataframe tbody tr th {\n",
              "        vertical-align: top;\n",
              "    }\n",
              "\n",
              "    .dataframe thead th {\n",
              "        text-align: right;\n",
              "    }\n",
              "</style>\n",
              "<table border=\"1\" class=\"dataframe\">\n",
              "  <thead>\n",
              "    <tr style=\"text-align: right;\">\n",
              "      <th></th>\n",
              "      <th>CRIM</th>\n",
              "      <th>ZN</th>\n",
              "      <th>INDUS</th>\n",
              "      <th>CHAS</th>\n",
              "      <th>NOX</th>\n",
              "      <th>RM</th>\n",
              "      <th>AGE</th>\n",
              "      <th>DIS</th>\n",
              "      <th>RAD</th>\n",
              "      <th>TAX</th>\n",
              "      <th>PTRATIO</th>\n",
              "      <th>B</th>\n",
              "      <th>LSTAT</th>\n",
              "    </tr>\n",
              "  </thead>\n",
              "  <tbody>\n",
              "    <tr>\n",
              "      <th>0</th>\n",
              "      <td>0.00632</td>\n",
              "      <td>18.0</td>\n",
              "      <td>2.31</td>\n",
              "      <td>0.0</td>\n",
              "      <td>0.538</td>\n",
              "      <td>6.575</td>\n",
              "      <td>65.2</td>\n",
              "      <td>4.0900</td>\n",
              "      <td>1.0</td>\n",
              "      <td>296.0</td>\n",
              "      <td>15.3</td>\n",
              "      <td>396.90</td>\n",
              "      <td>4.98</td>\n",
              "    </tr>\n",
              "    <tr>\n",
              "      <th>1</th>\n",
              "      <td>0.02731</td>\n",
              "      <td>0.0</td>\n",
              "      <td>7.07</td>\n",
              "      <td>0.0</td>\n",
              "      <td>0.469</td>\n",
              "      <td>6.421</td>\n",
              "      <td>78.9</td>\n",
              "      <td>4.9671</td>\n",
              "      <td>2.0</td>\n",
              "      <td>242.0</td>\n",
              "      <td>17.8</td>\n",
              "      <td>396.90</td>\n",
              "      <td>9.14</td>\n",
              "    </tr>\n",
              "    <tr>\n",
              "      <th>2</th>\n",
              "      <td>0.02729</td>\n",
              "      <td>0.0</td>\n",
              "      <td>7.07</td>\n",
              "      <td>0.0</td>\n",
              "      <td>0.469</td>\n",
              "      <td>7.185</td>\n",
              "      <td>61.1</td>\n",
              "      <td>4.9671</td>\n",
              "      <td>2.0</td>\n",
              "      <td>242.0</td>\n",
              "      <td>17.8</td>\n",
              "      <td>392.83</td>\n",
              "      <td>4.03</td>\n",
              "    </tr>\n",
              "    <tr>\n",
              "      <th>3</th>\n",
              "      <td>0.03237</td>\n",
              "      <td>0.0</td>\n",
              "      <td>2.18</td>\n",
              "      <td>0.0</td>\n",
              "      <td>0.458</td>\n",
              "      <td>6.998</td>\n",
              "      <td>45.8</td>\n",
              "      <td>6.0622</td>\n",
              "      <td>3.0</td>\n",
              "      <td>222.0</td>\n",
              "      <td>18.7</td>\n",
              "      <td>394.63</td>\n",
              "      <td>2.94</td>\n",
              "    </tr>\n",
              "    <tr>\n",
              "      <th>4</th>\n",
              "      <td>0.06905</td>\n",
              "      <td>0.0</td>\n",
              "      <td>2.18</td>\n",
              "      <td>0.0</td>\n",
              "      <td>0.458</td>\n",
              "      <td>7.147</td>\n",
              "      <td>54.2</td>\n",
              "      <td>6.0622</td>\n",
              "      <td>3.0</td>\n",
              "      <td>222.0</td>\n",
              "      <td>18.7</td>\n",
              "      <td>396.90</td>\n",
              "      <td>5.33</td>\n",
              "    </tr>\n",
              "    <tr>\n",
              "      <th>5</th>\n",
              "      <td>0.02985</td>\n",
              "      <td>0.0</td>\n",
              "      <td>2.18</td>\n",
              "      <td>0.0</td>\n",
              "      <td>0.458</td>\n",
              "      <td>6.430</td>\n",
              "      <td>58.7</td>\n",
              "      <td>6.0622</td>\n",
              "      <td>3.0</td>\n",
              "      <td>222.0</td>\n",
              "      <td>18.7</td>\n",
              "      <td>394.12</td>\n",
              "      <td>5.21</td>\n",
              "    </tr>\n",
              "    <tr>\n",
              "      <th>6</th>\n",
              "      <td>0.08829</td>\n",
              "      <td>12.5</td>\n",
              "      <td>7.87</td>\n",
              "      <td>0.0</td>\n",
              "      <td>0.524</td>\n",
              "      <td>6.012</td>\n",
              "      <td>66.6</td>\n",
              "      <td>5.5605</td>\n",
              "      <td>5.0</td>\n",
              "      <td>311.0</td>\n",
              "      <td>15.2</td>\n",
              "      <td>395.60</td>\n",
              "      <td>12.43</td>\n",
              "    </tr>\n",
              "    <tr>\n",
              "      <th>7</th>\n",
              "      <td>0.14455</td>\n",
              "      <td>12.5</td>\n",
              "      <td>7.87</td>\n",
              "      <td>0.0</td>\n",
              "      <td>0.524</td>\n",
              "      <td>6.172</td>\n",
              "      <td>96.1</td>\n",
              "      <td>5.9505</td>\n",
              "      <td>5.0</td>\n",
              "      <td>311.0</td>\n",
              "      <td>15.2</td>\n",
              "      <td>396.90</td>\n",
              "      <td>19.15</td>\n",
              "    </tr>\n",
              "    <tr>\n",
              "      <th>8</th>\n",
              "      <td>0.21124</td>\n",
              "      <td>12.5</td>\n",
              "      <td>7.87</td>\n",
              "      <td>0.0</td>\n",
              "      <td>0.524</td>\n",
              "      <td>5.631</td>\n",
              "      <td>100.0</td>\n",
              "      <td>6.0821</td>\n",
              "      <td>5.0</td>\n",
              "      <td>311.0</td>\n",
              "      <td>15.2</td>\n",
              "      <td>386.63</td>\n",
              "      <td>29.93</td>\n",
              "    </tr>\n",
              "    <tr>\n",
              "      <th>9</th>\n",
              "      <td>0.17004</td>\n",
              "      <td>12.5</td>\n",
              "      <td>7.87</td>\n",
              "      <td>0.0</td>\n",
              "      <td>0.524</td>\n",
              "      <td>6.004</td>\n",
              "      <td>85.9</td>\n",
              "      <td>6.5921</td>\n",
              "      <td>5.0</td>\n",
              "      <td>311.0</td>\n",
              "      <td>15.2</td>\n",
              "      <td>386.71</td>\n",
              "      <td>17.10</td>\n",
              "    </tr>\n",
              "  </tbody>\n",
              "</table>\n",
              "</div>"
            ],
            "text/plain": [
              "      CRIM    ZN  INDUS  CHAS    NOX  ...  RAD    TAX  PTRATIO       B  LSTAT\n",
              "0  0.00632  18.0   2.31   0.0  0.538  ...  1.0  296.0     15.3  396.90   4.98\n",
              "1  0.02731   0.0   7.07   0.0  0.469  ...  2.0  242.0     17.8  396.90   9.14\n",
              "2  0.02729   0.0   7.07   0.0  0.469  ...  2.0  242.0     17.8  392.83   4.03\n",
              "3  0.03237   0.0   2.18   0.0  0.458  ...  3.0  222.0     18.7  394.63   2.94\n",
              "4  0.06905   0.0   2.18   0.0  0.458  ...  3.0  222.0     18.7  396.90   5.33\n",
              "5  0.02985   0.0   2.18   0.0  0.458  ...  3.0  222.0     18.7  394.12   5.21\n",
              "6  0.08829  12.5   7.87   0.0  0.524  ...  5.0  311.0     15.2  395.60  12.43\n",
              "7  0.14455  12.5   7.87   0.0  0.524  ...  5.0  311.0     15.2  396.90  19.15\n",
              "8  0.21124  12.5   7.87   0.0  0.524  ...  5.0  311.0     15.2  386.63  29.93\n",
              "9  0.17004  12.5   7.87   0.0  0.524  ...  5.0  311.0     15.2  386.71  17.10\n",
              "\n",
              "[10 rows x 13 columns]"
            ]
          },
          "metadata": {
            "tags": []
          },
          "execution_count": 2
        }
      ]
    },
    {
      "cell_type": "markdown",
      "metadata": {
        "id": "_ZwIrg9OeudI",
        "colab_type": "text"
      },
      "source": [
        "Adaptando a base boston para ser de classificação\n",
        "Como a base boston não é uma base própria para classificação como a boston, escolhi a coluna RM, que é a média número de cômodos das casas por bairro para discretizar. <br />\n",
        "Para isso, primeiro realizei a verificação do maior número de cômodos, menor e média, entrentanto, ao plotar o gráfico de todos os valores, foi possível perceber que o máximo e o mínimo são pontos de outlier, logo, fiz uma aproximação perto da média."
      ]
    },
    {
      "cell_type": "code",
      "metadata": {
        "id": "lPVaS4zGd8GJ",
        "colab_type": "code",
        "outputId": "30dc01c3-2cb5-4e27-dd38-22177bf4cbf9",
        "colab": {
          "base_uri": "https://localhost:8080/",
          "height": 332
        }
      },
      "source": [
        "#dataset['RM'] = pandas.to_numeric(dataset['RM'])\n",
        "#RM é num de comodos medio por casa\n",
        "print(\"Max: \", max(dataset['RM']))\n",
        "print(\"Min: \", min(dataset['RM']))\n",
        "soma = sum(dataset['RM'])\n",
        "print(\"Média: \", soma/506)\n",
        "\n",
        "for var in ['RM']:\n",
        "    x = dataset[var].values  \n",
        "    plt.plot(x)\n",
        "    plt.title('Variação da média de cômodos por casa')\n",
        "\n",
        "plt.show()"
      ],
      "execution_count": 3,
      "outputs": [
        {
          "output_type": "stream",
          "text": [
            "Max:  8.78\n",
            "Min:  3.561\n",
            "Média:  6.284634387351787\n"
          ],
          "name": "stdout"
        },
        {
          "output_type": "display_data",
          "data": {
            "image/png": "[encoded data removed]",
            "text/plain": [
              "<Figure size 432x288 with 1 Axes>"
            ]
          },
          "metadata": {
            "tags": []
          }
        }
      ]
    },
    {
      "cell_type": "markdown",
      "metadata": {
        "id": "sSb0q-2He5C4",
        "colab_type": "text"
      },
      "source": [
        "**Assim, ficou definido que as casas com média abaixo de 6 cômodos são consideradas casas pequenas (0), as casas com média acima de 6.5 são consideradas casas grandes e entre os dois valores são casas de tamanho médio** <br/>\n",
        "Esta aproximação buscou equilibrar o numero de dados em cada um dos três grupos."
      ]
    },
    {
      "cell_type": "code",
      "metadata": {
        "id": "6_jwZNrjfQuI",
        "colab_type": "code",
        "outputId": "fcf442ab-efcd-40ca-aa08-1bc020335be4",
        "colab": {
          "base_uri": "https://localhost:8080/",
          "height": 68
        }
      },
      "source": [
        "maior = dataset[dataset['RM'] > 6.5]['RM'].index.tolist()\n",
        "print(len(maior))\n",
        "menor = dataset[dataset['RM'] < 6]['RM'].index.tolist()\n",
        "print(len(menor))\n",
        "\n",
        "med = dataset['RM'][(dataset['RM'].values > 6) & (dataset['RM'].values < 6.5)].index.tolist()\n",
        "print(len(med))\n",
        "\n",
        "\n",
        "dataset['RM'][menor] = 2  #'CASA_PEQUENA'\n",
        "dataset['RM'][med] = 3 #'CASA_MEDIA'\n",
        "dataset['RM'][maior] = 4 #'CASA_GRANDE'"
      ],
      "execution_count": 4,
      "outputs": [
        {
          "output_type": "stream",
          "text": [
            "152\n",
            "173\n",
            "181\n"
          ],
          "name": "stdout"
        }
      ]
    },
    {
      "cell_type": "code",
      "metadata": {
        "id": "5RP_YuSNfXdR",
        "colab_type": "code",
        "outputId": "60006863-e8c5-4f86-d6b1-4f58660cad81",
        "colab": {
          "base_uri": "https://localhost:8080/",
          "height": 393
        }
      },
      "source": [
        "observ = len(boston.data)\n",
        "carac = len(dataset.columns)\n",
        "print(\"Numero de observações (linhas): \" + str(observ))\n",
        "print(\"Numero de caracteristicas: \" + str(carac))\n",
        "\n",
        "\n",
        "comodos_map = {2: 'CASA_PEQUENA', 3: 'CASA_MEDIA', 4: 'CASA_GRANDE'}\n",
        "\n",
        "#mostrando a coluna RM modificada com o nosso filtro.\n",
        "dataset['TIPO'] = dataset['RM'].map(comodos_map)\n",
        "dataset.head(10)\n",
        "\n"
      ],
      "execution_count": 5,
      "outputs": [
        {
          "output_type": "stream",
          "text": [
            "Numero de observações (linhas): 506\n",
            "Numero de caracteristicas: 13\n"
          ],
          "name": "stdout"
        },
        {
          "output_type": "execute_result",
          "data": {
            "text/html": [
              "<div>\n",
              "<style scoped>\n",
              "    .dataframe tbody tr th:only-of-type {\n",
              "        vertical-align: middle;\n",
              "    }\n",
              "\n",
              "    .dataframe tbody tr th {\n",
              "        vertical-align: top;\n",
              "    }\n",
              "\n",
              "    .dataframe thead th {\n",
              "        text-align: right;\n",
              "    }\n",
              "</style>\n",
              "<table border=\"1\" class=\"dataframe\">\n",
              "  <thead>\n",
              "    <tr style=\"text-align: right;\">\n",
              "      <th></th>\n",
              "      <th>CRIM</th>\n",
              "      <th>ZN</th>\n",
              "      <th>INDUS</th>\n",
              "      <th>CHAS</th>\n",
              "      <th>NOX</th>\n",
              "      <th>RM</th>\n",
              "      <th>AGE</th>\n",
              "      <th>DIS</th>\n",
              "      <th>RAD</th>\n",
              "      <th>TAX</th>\n",
              "      <th>PTRATIO</th>\n",
              "      <th>B</th>\n",
              "      <th>LSTAT</th>\n",
              "      <th>TIPO</th>\n",
              "    </tr>\n",
              "  </thead>\n",
              "  <tbody>\n",
              "    <tr>\n",
              "      <th>0</th>\n",
              "      <td>0.00632</td>\n",
              "      <td>18.0</td>\n",
              "      <td>2.31</td>\n",
              "      <td>0.0</td>\n",
              "      <td>0.538</td>\n",
              "      <td>4.0</td>\n",
              "      <td>65.2</td>\n",
              "      <td>4.0900</td>\n",
              "      <td>1.0</td>\n",
              "      <td>296.0</td>\n",
              "      <td>15.3</td>\n",
              "      <td>396.90</td>\n",
              "      <td>4.98</td>\n",
              "      <td>CASA_GRANDE</td>\n",
              "    </tr>\n",
              "    <tr>\n",
              "      <th>1</th>\n",
              "      <td>0.02731</td>\n",
              "      <td>0.0</td>\n",
              "      <td>7.07</td>\n",
              "      <td>0.0</td>\n",
              "      <td>0.469</td>\n",
              "      <td>3.0</td>\n",
              "      <td>78.9</td>\n",
              "      <td>4.9671</td>\n",
              "      <td>2.0</td>\n",
              "      <td>242.0</td>\n",
              "      <td>17.8</td>\n",
              "      <td>396.90</td>\n",
              "      <td>9.14</td>\n",
              "      <td>CASA_MEDIA</td>\n",
              "    </tr>\n",
              "    <tr>\n",
              "      <th>2</th>\n",
              "      <td>0.02729</td>\n",
              "      <td>0.0</td>\n",
              "      <td>7.07</td>\n",
              "      <td>0.0</td>\n",
              "      <td>0.469</td>\n",
              "      <td>4.0</td>\n",
              "      <td>61.1</td>\n",
              "      <td>4.9671</td>\n",
              "      <td>2.0</td>\n",
              "      <td>242.0</td>\n",
              "      <td>17.8</td>\n",
              "      <td>392.83</td>\n",
              "      <td>4.03</td>\n",
              "      <td>CASA_GRANDE</td>\n",
              "    </tr>\n",
              "    <tr>\n",
              "      <th>3</th>\n",
              "      <td>0.03237</td>\n",
              "      <td>0.0</td>\n",
              "      <td>2.18</td>\n",
              "      <td>0.0</td>\n",
              "      <td>0.458</td>\n",
              "      <td>4.0</td>\n",
              "      <td>45.8</td>\n",
              "      <td>6.0622</td>\n",
              "      <td>3.0</td>\n",
              "      <td>222.0</td>\n",
              "      <td>18.7</td>\n",
              "      <td>394.63</td>\n",
              "      <td>2.94</td>\n",
              "      <td>CASA_GRANDE</td>\n",
              "    </tr>\n",
              "    <tr>\n",
              "      <th>4</th>\n",
              "      <td>0.06905</td>\n",
              "      <td>0.0</td>\n",
              "      <td>2.18</td>\n",
              "      <td>0.0</td>\n",
              "      <td>0.458</td>\n",
              "      <td>4.0</td>\n",
              "      <td>54.2</td>\n",
              "      <td>6.0622</td>\n",
              "      <td>3.0</td>\n",
              "      <td>222.0</td>\n",
              "      <td>18.7</td>\n",
              "      <td>396.90</td>\n",
              "      <td>5.33</td>\n",
              "      <td>CASA_GRANDE</td>\n",
              "    </tr>\n",
              "    <tr>\n",
              "      <th>5</th>\n",
              "      <td>0.02985</td>\n",
              "      <td>0.0</td>\n",
              "      <td>2.18</td>\n",
              "      <td>0.0</td>\n",
              "      <td>0.458</td>\n",
              "      <td>3.0</td>\n",
              "      <td>58.7</td>\n",
              "      <td>6.0622</td>\n",
              "      <td>3.0</td>\n",
              "      <td>222.0</td>\n",
              "      <td>18.7</td>\n",
              "      <td>394.12</td>\n",
              "      <td>5.21</td>\n",
              "      <td>CASA_MEDIA</td>\n",
              "    </tr>\n",
              "    <tr>\n",
              "      <th>6</th>\n",
              "      <td>0.08829</td>\n",
              "      <td>12.5</td>\n",
              "      <td>7.87</td>\n",
              "      <td>0.0</td>\n",
              "      <td>0.524</td>\n",
              "      <td>3.0</td>\n",
              "      <td>66.6</td>\n",
              "      <td>5.5605</td>\n",
              "      <td>5.0</td>\n",
              "      <td>311.0</td>\n",
              "      <td>15.2</td>\n",
              "      <td>395.60</td>\n",
              "      <td>12.43</td>\n",
              "      <td>CASA_MEDIA</td>\n",
              "    </tr>\n",
              "    <tr>\n",
              "      <th>7</th>\n",
              "      <td>0.14455</td>\n",
              "      <td>12.5</td>\n",
              "      <td>7.87</td>\n",
              "      <td>0.0</td>\n",
              "      <td>0.524</td>\n",
              "      <td>3.0</td>\n",
              "      <td>96.1</td>\n",
              "      <td>5.9505</td>\n",
              "      <td>5.0</td>\n",
              "      <td>311.0</td>\n",
              "      <td>15.2</td>\n",
              "      <td>396.90</td>\n",
              "      <td>19.15</td>\n",
              "      <td>CASA_MEDIA</td>\n",
              "    </tr>\n",
              "    <tr>\n",
              "      <th>8</th>\n",
              "      <td>0.21124</td>\n",
              "      <td>12.5</td>\n",
              "      <td>7.87</td>\n",
              "      <td>0.0</td>\n",
              "      <td>0.524</td>\n",
              "      <td>2.0</td>\n",
              "      <td>100.0</td>\n",
              "      <td>6.0821</td>\n",
              "      <td>5.0</td>\n",
              "      <td>311.0</td>\n",
              "      <td>15.2</td>\n",
              "      <td>386.63</td>\n",
              "      <td>29.93</td>\n",
              "      <td>CASA_PEQUENA</td>\n",
              "    </tr>\n",
              "    <tr>\n",
              "      <th>9</th>\n",
              "      <td>0.17004</td>\n",
              "      <td>12.5</td>\n",
              "      <td>7.87</td>\n",
              "      <td>0.0</td>\n",
              "      <td>0.524</td>\n",
              "      <td>3.0</td>\n",
              "      <td>85.9</td>\n",
              "      <td>6.5921</td>\n",
              "      <td>5.0</td>\n",
              "      <td>311.0</td>\n",
              "      <td>15.2</td>\n",
              "      <td>386.71</td>\n",
              "      <td>17.10</td>\n",
              "      <td>CASA_MEDIA</td>\n",
              "    </tr>\n",
              "  </tbody>\n",
              "</table>\n",
              "</div>"
            ],
            "text/plain": [
              "      CRIM    ZN  INDUS  CHAS  ...  PTRATIO       B  LSTAT          TIPO\n",
              "0  0.00632  18.0   2.31   0.0  ...     15.3  396.90   4.98   CASA_GRANDE\n",
              "1  0.02731   0.0   7.07   0.0  ...     17.8  396.90   9.14    CASA_MEDIA\n",
              "2  0.02729   0.0   7.07   0.0  ...     17.8  392.83   4.03   CASA_GRANDE\n",
              "3  0.03237   0.0   2.18   0.0  ...     18.7  394.63   2.94   CASA_GRANDE\n",
              "4  0.06905   0.0   2.18   0.0  ...     18.7  396.90   5.33   CASA_GRANDE\n",
              "5  0.02985   0.0   2.18   0.0  ...     18.7  394.12   5.21    CASA_MEDIA\n",
              "6  0.08829  12.5   7.87   0.0  ...     15.2  395.60  12.43    CASA_MEDIA\n",
              "7  0.14455  12.5   7.87   0.0  ...     15.2  396.90  19.15    CASA_MEDIA\n",
              "8  0.21124  12.5   7.87   0.0  ...     15.2  386.63  29.93  CASA_PEQUENA\n",
              "9  0.17004  12.5   7.87   0.0  ...     15.2  386.71  17.10    CASA_MEDIA\n",
              "\n",
              "[10 rows x 14 columns]"
            ]
          },
          "metadata": {
            "tags": []
          },
          "execution_count": 5
        }
      ]
    },
    {
      "cell_type": "markdown",
      "metadata": {
        "id": "oIzjqehifeLS",
        "colab_type": "text"
      },
      "source": [
        "**Visto que menos caracteristicas fornece um melhor resultado, defini que somente trataria dos dados: <br />\n",
        "RM: Como já dito é a média de cômodos em casas por bairro  <br />\n",
        "AGE: Idades das casas  <br />\n",
        "DIS: Distância do centro da cidade  <br />\n",
        "LSTAT: Status socioeconomico da população em porcentagem  <br />**\n",
        "Assim, todas as outras colunas foram removidas do nosso conjunto de dados"
      ]
    },
    {
      "cell_type": "code",
      "metadata": {
        "id": "zcIpZkaZfrPo",
        "colab_type": "code",
        "outputId": "f23cdf5a-fab3-4f67-f114-272a1ead1b94",
        "colab": {
          "base_uri": "https://localhost:8080/",
          "height": 204
        }
      },
      "source": [
        "dataset = dataset.drop('CRIM',axis=1)\n",
        "dataset = dataset.drop('ZN',axis=1)\n",
        "dataset = dataset.drop('INDUS',axis=1)\n",
        "dataset = dataset.drop('CHAS',axis=1)\n",
        "dataset = dataset.drop('NOX',axis=1)\n",
        "dataset = dataset.drop('RAD',axis=1)\n",
        "dataset = dataset.drop('TAX',axis=1)\n",
        "dataset = dataset.drop('PTRATIO',axis=1)\n",
        "dataset = dataset.drop('B',axis=1)\n",
        "\n",
        "\n",
        "print(dataset.head(10))\n",
        "X_boston = dataset\n",
        "y_boston = dataset['RM'].values\n",
        "y2 = boston.target"
      ],
      "execution_count": 6,
      "outputs": [
        {
          "output_type": "stream",
          "text": [
            "    RM    AGE     DIS  LSTAT          TIPO\n",
            "0  4.0   65.2  4.0900   4.98   CASA_GRANDE\n",
            "1  3.0   78.9  4.9671   9.14    CASA_MEDIA\n",
            "2  4.0   61.1  4.9671   4.03   CASA_GRANDE\n",
            "3  4.0   45.8  6.0622   2.94   CASA_GRANDE\n",
            "4  4.0   54.2  6.0622   5.33   CASA_GRANDE\n",
            "5  3.0   58.7  6.0622   5.21    CASA_MEDIA\n",
            "6  3.0   66.6  5.5605  12.43    CASA_MEDIA\n",
            "7  3.0   96.1  5.9505  19.15    CASA_MEDIA\n",
            "8  2.0  100.0  6.0821  29.93  CASA_PEQUENA\n",
            "9  3.0   85.9  6.5921  17.10    CASA_MEDIA\n"
          ],
          "name": "stdout"
        }
      ]
    },
    {
      "cell_type": "code",
      "metadata": {
        "id": "GlII2Ic5n9-H",
        "colab_type": "code",
        "outputId": "e6cef5ec-c556-4fc3-9cee-fcac39e4a45d",
        "colab": {
          "base_uri": "https://localhost:8080/",
          "height": 204
        }
      },
      "source": [
        "#misturando os dados\n",
        "perm = np.random.permutation(len(boston.data))\n",
        "dataset = dataset.loc[perm]\n",
        "dataset.head()"
      ],
      "execution_count": 7,
      "outputs": [
        {
          "output_type": "execute_result",
          "data": {
            "text/html": [
              "<div>\n",
              "<style scoped>\n",
              "    .dataframe tbody tr th:only-of-type {\n",
              "        vertical-align: middle;\n",
              "    }\n",
              "\n",
              "    .dataframe tbody tr th {\n",
              "        vertical-align: top;\n",
              "    }\n",
              "\n",
              "    .dataframe thead th {\n",
              "        text-align: right;\n",
              "    }\n",
              "</style>\n",
              "<table border=\"1\" class=\"dataframe\">\n",
              "  <thead>\n",
              "    <tr style=\"text-align: right;\">\n",
              "      <th></th>\n",
              "      <th>RM</th>\n",
              "      <th>AGE</th>\n",
              "      <th>DIS</th>\n",
              "      <th>LSTAT</th>\n",
              "      <th>TIPO</th>\n",
              "    </tr>\n",
              "  </thead>\n",
              "  <tbody>\n",
              "    <tr>\n",
              "      <th>358</th>\n",
              "      <td>3.0</td>\n",
              "      <td>83.4</td>\n",
              "      <td>2.7227</td>\n",
              "      <td>11.48</td>\n",
              "      <td>CASA_MEDIA</td>\n",
              "    </tr>\n",
              "    <tr>\n",
              "      <th>436</th>\n",
              "      <td>3.0</td>\n",
              "      <td>93.3</td>\n",
              "      <td>2.0026</td>\n",
              "      <td>18.05</td>\n",
              "      <td>CASA_MEDIA</td>\n",
              "    </tr>\n",
              "    <tr>\n",
              "      <th>59</th>\n",
              "      <td>2.0</td>\n",
              "      <td>47.2</td>\n",
              "      <td>6.9320</td>\n",
              "      <td>9.22</td>\n",
              "      <td>CASA_PEQUENA</td>\n",
              "    </tr>\n",
              "    <tr>\n",
              "      <th>79</th>\n",
              "      <td>2.0</td>\n",
              "      <td>36.6</td>\n",
              "      <td>4.5026</td>\n",
              "      <td>9.10</td>\n",
              "      <td>CASA_PEQUENA</td>\n",
              "    </tr>\n",
              "    <tr>\n",
              "      <th>70</th>\n",
              "      <td>3.0</td>\n",
              "      <td>6.6</td>\n",
              "      <td>5.2873</td>\n",
              "      <td>6.72</td>\n",
              "      <td>CASA_MEDIA</td>\n",
              "    </tr>\n",
              "  </tbody>\n",
              "</table>\n",
              "</div>"
            ],
            "text/plain": [
              "      RM   AGE     DIS  LSTAT          TIPO\n",
              "358  3.0  83.4  2.7227  11.48    CASA_MEDIA\n",
              "436  3.0  93.3  2.0026  18.05    CASA_MEDIA\n",
              "59   2.0  47.2  6.9320   9.22  CASA_PEQUENA\n",
              "79   2.0  36.6  4.5026   9.10  CASA_PEQUENA\n",
              "70   3.0   6.6  5.2873   6.72    CASA_MEDIA"
            ]
          },
          "metadata": {
            "tags": []
          },
          "execution_count": 7
        }
      ]
    },
    {
      "cell_type": "markdown",
      "metadata": {
        "id": "XBsyj5Usbb0r",
        "colab_type": "text"
      },
      "source": [
        "**Contabilizando a quantidade de cada tipo de cômodos**"
      ]
    },
    {
      "cell_type": "code",
      "metadata": {
        "id": "25kP_4sRogY2",
        "colab_type": "code",
        "outputId": "0fc27285-40be-4361-9bf3-a3d3ccbd4328",
        "colab": {
          "base_uri": "https://localhost:8080/",
          "height": 297
        }
      },
      "source": [
        "casa_grande_mask = dataset['TIPO'] == 'CASA_GRANDE'\n",
        "dataset[casa_grande_mask].describe()"
      ],
      "execution_count": 8,
      "outputs": [
        {
          "output_type": "execute_result",
          "data": {
            "text/html": [
              "<div>\n",
              "<style scoped>\n",
              "    .dataframe tbody tr th:only-of-type {\n",
              "        vertical-align: middle;\n",
              "    }\n",
              "\n",
              "    .dataframe tbody tr th {\n",
              "        vertical-align: top;\n",
              "    }\n",
              "\n",
              "    .dataframe thead th {\n",
              "        text-align: right;\n",
              "    }\n",
              "</style>\n",
              "<table border=\"1\" class=\"dataframe\">\n",
              "  <thead>\n",
              "    <tr style=\"text-align: right;\">\n",
              "      <th></th>\n",
              "      <th>RM</th>\n",
              "      <th>AGE</th>\n",
              "      <th>DIS</th>\n",
              "      <th>LSTAT</th>\n",
              "    </tr>\n",
              "  </thead>\n",
              "  <tbody>\n",
              "    <tr>\n",
              "      <th>count</th>\n",
              "      <td>152.0</td>\n",
              "      <td>152.000000</td>\n",
              "      <td>152.000000</td>\n",
              "      <td>152.000000</td>\n",
              "    </tr>\n",
              "    <tr>\n",
              "      <th>mean</th>\n",
              "      <td>4.0</td>\n",
              "      <td>59.744079</td>\n",
              "      <td>4.325154</td>\n",
              "      <td>7.449737</td>\n",
              "    </tr>\n",
              "    <tr>\n",
              "      <th>std</th>\n",
              "      <td>0.0</td>\n",
              "      <td>28.473526</td>\n",
              "      <td>2.219851</td>\n",
              "      <td>4.998417</td>\n",
              "    </tr>\n",
              "    <tr>\n",
              "      <th>min</th>\n",
              "      <td>4.0</td>\n",
              "      <td>2.900000</td>\n",
              "      <td>1.202400</td>\n",
              "      <td>1.730000</td>\n",
              "    </tr>\n",
              "    <tr>\n",
              "      <th>25%</th>\n",
              "      <td>4.0</td>\n",
              "      <td>33.425000</td>\n",
              "      <td>2.523700</td>\n",
              "      <td>4.432500</td>\n",
              "    </tr>\n",
              "    <tr>\n",
              "      <th>50%</th>\n",
              "      <td>4.0</td>\n",
              "      <td>61.800000</td>\n",
              "      <td>3.651900</td>\n",
              "      <td>5.900000</td>\n",
              "    </tr>\n",
              "    <tr>\n",
              "      <th>75%</th>\n",
              "      <td>4.0</td>\n",
              "      <td>86.600000</td>\n",
              "      <td>5.903850</td>\n",
              "      <td>8.227500</td>\n",
              "    </tr>\n",
              "    <tr>\n",
              "      <th>max</th>\n",
              "      <td>4.0</td>\n",
              "      <td>100.000000</td>\n",
              "      <td>12.126500</td>\n",
              "      <td>25.790000</td>\n",
              "    </tr>\n",
              "  </tbody>\n",
              "</table>\n",
              "</div>"
            ],
            "text/plain": [
              "          RM         AGE         DIS       LSTAT\n",
              "count  152.0  152.000000  152.000000  152.000000\n",
              "mean     4.0   59.744079    4.325154    7.449737\n",
              "std      0.0   28.473526    2.219851    4.998417\n",
              "min      4.0    2.900000    1.202400    1.730000\n",
              "25%      4.0   33.425000    2.523700    4.432500\n",
              "50%      4.0   61.800000    3.651900    5.900000\n",
              "75%      4.0   86.600000    5.903850    8.227500\n",
              "max      4.0  100.000000   12.126500   25.790000"
            ]
          },
          "metadata": {
            "tags": []
          },
          "execution_count": 8
        }
      ]
    },
    {
      "cell_type": "code",
      "metadata": {
        "id": "YaMIRtEjo8zv",
        "colab_type": "code",
        "outputId": "dddaaa9d-982a-4cd4-a4b3-049b7ce07fbe",
        "colab": {
          "base_uri": "https://localhost:8080/",
          "height": 297
        }
      },
      "source": [
        "casa_media_mask = dataset['TIPO'] == 'CASA_MEDIA'\n",
        "dataset[casa_media_mask].describe()"
      ],
      "execution_count": 9,
      "outputs": [
        {
          "output_type": "execute_result",
          "data": {
            "text/html": [
              "<div>\n",
              "<style scoped>\n",
              "    .dataframe tbody tr th:only-of-type {\n",
              "        vertical-align: middle;\n",
              "    }\n",
              "\n",
              "    .dataframe tbody tr th {\n",
              "        vertical-align: top;\n",
              "    }\n",
              "\n",
              "    .dataframe thead th {\n",
              "        text-align: right;\n",
              "    }\n",
              "</style>\n",
              "<table border=\"1\" class=\"dataframe\">\n",
              "  <thead>\n",
              "    <tr style=\"text-align: right;\">\n",
              "      <th></th>\n",
              "      <th>RM</th>\n",
              "      <th>AGE</th>\n",
              "      <th>DIS</th>\n",
              "      <th>LSTAT</th>\n",
              "    </tr>\n",
              "  </thead>\n",
              "  <tbody>\n",
              "    <tr>\n",
              "      <th>count</th>\n",
              "      <td>181.0</td>\n",
              "      <td>181.000000</td>\n",
              "      <td>181.000000</td>\n",
              "      <td>181.000000</td>\n",
              "    </tr>\n",
              "    <tr>\n",
              "      <th>mean</th>\n",
              "      <td>3.0</td>\n",
              "      <td>68.672928</td>\n",
              "      <td>3.852726</td>\n",
              "      <td>12.470663</td>\n",
              "    </tr>\n",
              "    <tr>\n",
              "      <th>std</th>\n",
              "      <td>0.0</td>\n",
              "      <td>28.430717</td>\n",
              "      <td>1.979218</td>\n",
              "      <td>5.240595</td>\n",
              "    </tr>\n",
              "    <tr>\n",
              "      <th>min</th>\n",
              "      <td>3.0</td>\n",
              "      <td>6.000000</td>\n",
              "      <td>1.169100</td>\n",
              "      <td>3.590000</td>\n",
              "    </tr>\n",
              "    <tr>\n",
              "      <th>25%</th>\n",
              "      <td>3.0</td>\n",
              "      <td>45.800000</td>\n",
              "      <td>2.206000</td>\n",
              "      <td>8.200000</td>\n",
              "    </tr>\n",
              "    <tr>\n",
              "      <th>50%</th>\n",
              "      <td>3.0</td>\n",
              "      <td>79.700000</td>\n",
              "      <td>3.262800</td>\n",
              "      <td>11.970000</td>\n",
              "    </tr>\n",
              "    <tr>\n",
              "      <th>75%</th>\n",
              "      <td>3.0</td>\n",
              "      <td>93.600000</td>\n",
              "      <td>5.400700</td>\n",
              "      <td>15.550000</td>\n",
              "    </tr>\n",
              "    <tr>\n",
              "      <th>max</th>\n",
              "      <td>3.0</td>\n",
              "      <td>100.000000</td>\n",
              "      <td>9.220300</td>\n",
              "      <td>29.050000</td>\n",
              "    </tr>\n",
              "  </tbody>\n",
              "</table>\n",
              "</div>"
            ],
            "text/plain": [
              "          RM         AGE         DIS       LSTAT\n",
              "count  181.0  181.000000  181.000000  181.000000\n",
              "mean     3.0   68.672928    3.852726   12.470663\n",
              "std      0.0   28.430717    1.979218    5.240595\n",
              "min      3.0    6.000000    1.169100    3.590000\n",
              "25%      3.0   45.800000    2.206000    8.200000\n",
              "50%      3.0   79.700000    3.262800   11.970000\n",
              "75%      3.0   93.600000    5.400700   15.550000\n",
              "max      3.0  100.000000    9.220300   29.050000"
            ]
          },
          "metadata": {
            "tags": []
          },
          "execution_count": 9
        }
      ]
    },
    {
      "cell_type": "code",
      "metadata": {
        "id": "MeKmtNXHpHUI",
        "colab_type": "code",
        "outputId": "90a3fc46-63cb-4786-ece9-f0cc4e535da9",
        "colab": {
          "base_uri": "https://localhost:8080/",
          "height": 297
        }
      },
      "source": [
        "casa_pequena_mask = dataset['TIPO'] == 'CASA_PEQUENA'\n",
        "dataset[casa_pequena_mask].describe()"
      ],
      "execution_count": 10,
      "outputs": [
        {
          "output_type": "execute_result",
          "data": {
            "text/html": [
              "<div>\n",
              "<style scoped>\n",
              "    .dataframe tbody tr th:only-of-type {\n",
              "        vertical-align: middle;\n",
              "    }\n",
              "\n",
              "    .dataframe tbody tr th {\n",
              "        vertical-align: top;\n",
              "    }\n",
              "\n",
              "    .dataframe thead th {\n",
              "        text-align: right;\n",
              "    }\n",
              "</style>\n",
              "<table border=\"1\" class=\"dataframe\">\n",
              "  <thead>\n",
              "    <tr style=\"text-align: right;\">\n",
              "      <th></th>\n",
              "      <th>RM</th>\n",
              "      <th>AGE</th>\n",
              "      <th>DIS</th>\n",
              "      <th>LSTAT</th>\n",
              "    </tr>\n",
              "  </thead>\n",
              "  <tbody>\n",
              "    <tr>\n",
              "      <th>count</th>\n",
              "      <td>173.0</td>\n",
              "      <td>173.000000</td>\n",
              "      <td>173.000000</td>\n",
              "      <td>173.000000</td>\n",
              "    </tr>\n",
              "    <tr>\n",
              "      <th>mean</th>\n",
              "      <td>2.0</td>\n",
              "      <td>76.231214</td>\n",
              "      <td>3.268929</td>\n",
              "      <td>17.415607</td>\n",
              "    </tr>\n",
              "    <tr>\n",
              "      <th>std</th>\n",
              "      <td>0.0</td>\n",
              "      <td>25.315182</td>\n",
              "      <td>2.015596</td>\n",
              "      <td>7.229999</td>\n",
              "    </tr>\n",
              "    <tr>\n",
              "      <th>min</th>\n",
              "      <td>2.0</td>\n",
              "      <td>9.800000</td>\n",
              "      <td>1.129600</td>\n",
              "      <td>3.260000</td>\n",
              "    </tr>\n",
              "    <tr>\n",
              "      <th>25%</th>\n",
              "      <td>2.0</td>\n",
              "      <td>59.600000</td>\n",
              "      <td>1.755400</td>\n",
              "      <td>12.120000</td>\n",
              "    </tr>\n",
              "    <tr>\n",
              "      <th>50%</th>\n",
              "      <td>2.0</td>\n",
              "      <td>88.400000</td>\n",
              "      <td>2.469900</td>\n",
              "      <td>15.840000</td>\n",
              "    </tr>\n",
              "    <tr>\n",
              "      <th>75%</th>\n",
              "      <td>2.0</td>\n",
              "      <td>96.700000</td>\n",
              "      <td>4.098300</td>\n",
              "      <td>21.450000</td>\n",
              "    </tr>\n",
              "    <tr>\n",
              "      <th>max</th>\n",
              "      <td>2.0</td>\n",
              "      <td>100.000000</td>\n",
              "      <td>10.710300</td>\n",
              "      <td>37.970000</td>\n",
              "    </tr>\n",
              "  </tbody>\n",
              "</table>\n",
              "</div>"
            ],
            "text/plain": [
              "          RM         AGE         DIS       LSTAT\n",
              "count  173.0  173.000000  173.000000  173.000000\n",
              "mean     2.0   76.231214    3.268929   17.415607\n",
              "std      0.0   25.315182    2.015596    7.229999\n",
              "min      2.0    9.800000    1.129600    3.260000\n",
              "25%      2.0   59.600000    1.755400   12.120000\n",
              "50%      2.0   88.400000    2.469900   15.840000\n",
              "75%      2.0   96.700000    4.098300   21.450000\n",
              "max      2.0  100.000000   10.710300   37.970000"
            ]
          },
          "metadata": {
            "tags": []
          },
          "execution_count": 10
        }
      ]
    },
    {
      "cell_type": "code",
      "metadata": {
        "id": "jD7xSEwap8I3",
        "colab_type": "code",
        "outputId": "c766990a-779f-48b5-c885-1894f18afab2",
        "colab": {
          "base_uri": "https://localhost:8080/",
          "height": 283
        }
      },
      "source": [
        "\n",
        "\n",
        "plt.scatter(X_boston.iloc[:, 0], X_boston.iloc[:, 3], c=y_boston, edgecolors='k', cmap=plt.cm.Paired)\n",
        "plt.xlabel('RM')\n",
        "plt.ylabel('LSTAT')\n",
        "\n",
        "\n",
        "#plt.xticks(())\n",
        "#plt.yticks(())\n",
        "\n",
        "plt.show()\n",
        "\n"
      ],
      "execution_count": 11,
      "outputs": [
        {
          "output_type": "display_data",
          "data": {
            "image/png": "[encoded data removed]",
            "text/plain": [
              "<Figure size 432x288 with 1 Axes>"
            ]
          },
          "metadata": {
            "tags": []
          }
        }
      ]
    },
    {
      "cell_type": "markdown",
      "metadata": {
        "id": "kZYOnVxBeHkK",
        "colab_type": "text"
      },
      "source": [
        "\n",
        "\n",
        "\n",
        "**Refinando y binário pela coluna RM, classificaremos nossa base em ser casa grande ou não (todas as casas grandes serão 1 e o resto 0).**\n"
      ]
    },
    {
      "cell_type": "code",
      "metadata": {
        "id": "N5nyn3qpsLUu",
        "colab_type": "code",
        "outputId": "88bc68b0-593f-42eb-f3a3-df7e61837487",
        "colab": {
          "base_uri": "https://localhost:8080/",
          "height": 34
        }
      },
      "source": [
        "X_boston = np.c_[X_boston.iloc[:, 0], X_boston.iloc[:, 3]]\n",
        "y = []\n",
        "\n",
        "for i in range(len(X_boston)):\n",
        "  if X_boston[i][0] > 3:\n",
        "    y.append(1)\n",
        "  else:\n",
        "    y.append(0)\n",
        "    \n",
        "    \n",
        "\n",
        "print('Tamanho de y: ', len(y))"
      ],
      "execution_count": 12,
      "outputs": [
        {
          "output_type": "stream",
          "text": [
            "Tamanho de y:  506\n"
          ],
          "name": "stdout"
        }
      ]
    },
    {
      "cell_type": "code",
      "metadata": {
        "id": "5IJnpToJy_Zb",
        "colab_type": "code",
        "outputId": "a716fe6a-7af6-4f88-aaf3-f0e6168278a1",
        "colab": {
          "base_uri": "https://localhost:8080/",
          "height": 283
        }
      },
      "source": [
        "#plotando os grupos (marrom é casa grande, azul o resto)\n",
        "y = np.array(y)\n",
        "plt.scatter(X_boston[:,0], X_boston[:,1], c = y, edgecolors='k', cmap=plt.cm.Paired)\n",
        "plt.xlabel('RM')\n",
        "plt.ylabel('LSTAT')\n",
        "plt.show()\n"
      ],
      "execution_count": 13,
      "outputs": [
        {
          "output_type": "display_data",
          "data": {
            "image/png": "[encoded data removed]",
            "text/plain": [
              "<Figure size 432x288 with 1 Axes>"
            ]
          },
          "metadata": {
            "tags": []
          }
        }
      ]
    },
    {
      "cell_type": "markdown",
      "metadata": {
        "id": "tVbFrOaogPsn",
        "colab_type": "text"
      },
      "source": [
        "O eixo y é composto pela porcentagem de classe social, assim, pelos gráficos acima, é possível perceber que a porcentagem de proprietários na vizinhança considerados de \"classe baixa\" é menor quando em comparação com casas consideradas grandes. <br/>\n",
        "\n",
        "Agora vamos separar o conjunto de treinamento/teste para usar o modelo de Regressão Logística."
      ]
    },
    {
      "cell_type": "code",
      "metadata": {
        "id": "7VIQKiBizVcj",
        "colab_type": "code",
        "colab": {}
      },
      "source": [
        "x_train, x_test = X_boston[perm][102:], X_boston[perm][:102]\n",
        "y_train, y_test = y[perm][102:], y[perm][:102]"
      ],
      "execution_count": 0,
      "outputs": []
    },
    {
      "cell_type": "code",
      "metadata": {
        "id": "BTLR8ci3zsc0",
        "colab_type": "code",
        "outputId": "c0d94cb1-c65d-4bc8-bf05-590108b3cd79",
        "colab": {
          "base_uri": "https://localhost:8080/",
          "height": 34
        }
      },
      "source": [
        "x_train.shape, y_train.shape, x_test.shape, y_test.shape"
      ],
      "execution_count": 15,
      "outputs": [
        {
          "output_type": "execute_result",
          "data": {
            "text/plain": [
              "((404, 2), (404,), (102, 2), (102,))"
            ]
          },
          "metadata": {
            "tags": []
          },
          "execution_count": 15
        }
      ]
    },
    {
      "cell_type": "code",
      "metadata": {
        "id": "AyGvM5MJz43r",
        "colab_type": "code",
        "colab": {}
      },
      "source": [
        "log_reg = LogisticRegression(solver='lbfgs')"
      ],
      "execution_count": 0,
      "outputs": []
    },
    {
      "cell_type": "code",
      "metadata": {
        "id": "xNctV0bYz_-W",
        "colab_type": "code",
        "colab": {
          "base_uri": "https://localhost:8080/",
          "height": 102
        },
        "outputId": "bbce0125-bff1-46b7-bf8b-d7d79897cc59"
      },
      "source": [
        "#log_reg.fit(X_boston, y)\n",
        "\n",
        "log_reg.fit(x_train,y_train)\n",
        "\n"
      ],
      "execution_count": 17,
      "outputs": [
        {
          "output_type": "execute_result",
          "data": {
            "text/plain": [
              "LogisticRegression(C=1.0, class_weight=None, dual=False, fit_intercept=True,\n",
              "                   intercept_scaling=1, l1_ratio=None, max_iter=100,\n",
              "                   multi_class='warn', n_jobs=None, penalty='l2',\n",
              "                   random_state=None, solver='lbfgs', tol=0.0001, verbose=0,\n",
              "                   warm_start=False)"
            ]
          },
          "metadata": {
            "tags": []
          },
          "execution_count": 17
        }
      ]
    },
    {
      "cell_type": "code",
      "metadata": {
        "id": "ikBweYrYh4o9",
        "colab_type": "code",
        "colab": {}
      },
      "source": [
        "y_pred = log_reg.predict(x_test)"
      ],
      "execution_count": 0,
      "outputs": []
    },
    {
      "cell_type": "code",
      "metadata": {
        "id": "uYjhyv7uRMpd",
        "colab_type": "code",
        "outputId": "ea6a2928-1ed0-4d4c-ee73-b09ba7492564",
        "colab": {
          "base_uri": "https://localhost:8080/",
          "height": 51
        }
      },
      "source": [
        "# import the metrics class\n",
        "from sklearn import metrics\n",
        "cnf_matrix = metrics.confusion_matrix(y_test, y_pred)\n",
        "cnf_matrix"
      ],
      "execution_count": 19,
      "outputs": [
        {
          "output_type": "execute_result",
          "data": {
            "text/plain": [
              "array([[80,  0],\n",
              "       [ 0, 22]])"
            ]
          },
          "metadata": {
            "tags": []
          },
          "execution_count": 19
        }
      ]
    },
    {
      "cell_type": "code",
      "metadata": {
        "id": "Qb3pAtTpTPXC",
        "colab_type": "code",
        "colab": {}
      },
      "source": [
        ""
      ],
      "execution_count": 0,
      "outputs": []
    },
    {
      "cell_type": "code",
      "metadata": {
        "id": "QfV_80_q0Lez",
        "colab_type": "code",
        "outputId": "3bcd8328-668e-44e6-bef4-6ab90eebe1a8",
        "colab": {
          "base_uri": "https://localhost:8080/",
          "height": 34
        }
      },
      "source": [
        "W, b = log_reg.coef_, log_reg.intercept_\n",
        "W, b"
      ],
      "execution_count": 20,
      "outputs": [
        {
          "output_type": "execute_result",
          "data": {
            "text/plain": [
              "(array([[ 5.91189511, -0.09731496]]), array([-19.76230246]))"
            ]
          },
          "metadata": {
            "tags": []
          },
          "execution_count": 20
        }
      ]
    },
    {
      "cell_type": "markdown",
      "metadata": {
        "id": "vdYCOJ-Jg4QC",
        "colab_type": "text"
      },
      "source": [
        "Seguindo a forma linear Y = Mx + b, podemos ver agora que a equação linear para nosso limite de decisão é RM * (5,...) + LSTAT * (-0,...) + (-19,...). \n",
        "\n",
        "**Abaixo**, chamamos os primeiros 10 resultados de probab, que retornam a probabilidade prevista de cada ponto de dados. "
      ]
    },
    {
      "cell_type": "code",
      "metadata": {
        "id": "OVHwurPa0VvQ",
        "colab_type": "code",
        "colab": {}
      },
      "source": [
        "probab = []\n",
        "for i in range(len(x_train)):\n",
        "  probab.append( log_reg.predict_proba(x_train)[i])\n",
        "  "
      ],
      "execution_count": 0,
      "outputs": []
    },
    {
      "cell_type": "code",
      "metadata": {
        "id": "s_YGnkBx0dKs",
        "colab_type": "code",
        "outputId": "208e71f1-cb60-4af9-883d-0851260f8424",
        "colab": {
          "base_uri": "https://localhost:8080/",
          "height": 187
        }
      },
      "source": [
        "#o primeiro valor retorna a probabilidade de não ser casa grande e o segundo a probabilidade de ser\n",
        "probab[0:10]"
      ],
      "execution_count": 22,
      "outputs": [
        {
          "output_type": "execute_result",
          "data": {
            "text/plain": [
              "[array([0.03997246, 0.96002754]),\n",
              " array([0.93498889, 0.06501111]),\n",
              " array([9.99940188e-01, 5.98121555e-05]),\n",
              " array([0.97719821, 0.02280179]),\n",
              " array([0.03715919, 0.96284081]),\n",
              " array([0.97355891, 0.02644109]),\n",
              " array([0.02868454, 0.97131546]),\n",
              " array([9.99904951e-01, 9.50490332e-05]),\n",
              " array([0.94835018, 0.05164982]),\n",
              " array([0.93282667, 0.06717333])]"
            ]
          },
          "metadata": {
            "tags": []
          },
          "execution_count": 22
        }
      ]
    },
    {
      "cell_type": "code",
      "metadata": {
        "id": "Ix_Y3dvBjvjF",
        "colab_type": "code",
        "colab": {
          "base_uri": "https://localhost:8080/",
          "height": 51
        },
        "outputId": "1cef2237-7211-42d4-9621-adfd44ffc686"
      },
      "source": [
        "print(x_train[0][0])\n",
        "print(x_train[1][0])"
      ],
      "execution_count": 23,
      "outputs": [
        {
          "output_type": "stream",
          "text": [
            "4.0\n",
            "3.0\n"
          ],
          "name": "stdout"
        }
      ]
    },
    {
      "cell_type": "markdown",
      "metadata": {
        "id": "yMmnImlXiPhg",
        "colab_type": "text"
      },
      "source": [
        "**Gráfico de dispersão da probabilidade**"
      ]
    },
    {
      "cell_type": "code",
      "metadata": {
        "id": "9EolLxO70h9j",
        "colab_type": "code",
        "outputId": "e3fe3e6f-1388-4f11-ce93-ef9b9301ffae",
        "colab": {
          "base_uri": "https://localhost:8080/",
          "height": 269
        }
      },
      "source": [
        "plt.scatter(X_boston[:,0], X_boston[:,1], c = y,  edgecolors='k', cmap=plt.cm.Paired)\n",
        "ax = plt.gca()\n",
        "ax.autoscale = False\n",
        "xvals = np.array(ax.get_xlim())\n",
        "yvals = -(xvals * W[0][0] + b) / W[0][1]\n",
        "plt.plot(xvals, yvals)\n",
        "plt.show()"
      ],
      "execution_count": 24,
      "outputs": [
        {
          "output_type": "display_data",
          "data": {
            "image/png": "[encoded data removed]",
            "text/plain": [
              "<Figure size 432x288 with 1 Axes>"
            ]
          },
          "metadata": {
            "tags": []
          }
        }
      ]
    },
    {
      "cell_type": "markdown",
      "metadata": {
        "id": "_CRZP-QYigN2",
        "colab_type": "text"
      },
      "source": [
        "Podemos ver que fomos capazes de separar facilmente as duas classes usando nosso limite de decisão de regressão logística. A linha representa o limite de 50% de chance, ou seja, quanto mais longe o ponto de dados, maior a probabilidade de o item ser uma determinada classe. Vamos agora prever o nosso conjunto de testes."
      ]
    },
    {
      "cell_type": "code",
      "metadata": {
        "id": "lay-kPHx1EXE",
        "colab_type": "code",
        "outputId": "3a8a990b-1e5f-401e-eb4c-279317b46d9f",
        "colab": {
          "base_uri": "https://localhost:8080/",
          "height": 102
        }
      },
      "source": [
        "y_pred"
      ],
      "execution_count": 25,
      "outputs": [
        {
          "output_type": "execute_result",
          "data": {
            "text/plain": [
              "array([0, 0, 0, 0, 0, 1, 0, 0, 0, 0, 0, 0, 0, 0, 0, 0, 0, 1, 1, 0, 0, 1,\n",
              "       1, 0, 0, 0, 0, 0, 1, 1, 0, 0, 0, 1, 0, 0, 1, 0, 0, 0, 0, 0, 0, 0,\n",
              "       0, 0, 1, 0, 1, 0, 1, 0, 0, 0, 0, 0, 0, 0, 0, 0, 0, 0, 0, 0, 0, 1,\n",
              "       0, 0, 0, 1, 1, 0, 0, 1, 0, 1, 1, 0, 0, 0, 1, 0, 0, 0, 0, 0, 0, 0,\n",
              "       0, 0, 0, 0, 0, 0, 0, 1, 0, 1, 0, 0, 1, 0])"
            ]
          },
          "metadata": {
            "tags": []
          },
          "execution_count": 25
        }
      ]
    },
    {
      "cell_type": "code",
      "metadata": {
        "id": "Wd7Jv38r1Nvi",
        "colab_type": "code",
        "outputId": "4289e8c7-d519-45da-d990-f0ef05f79029",
        "colab": {
          "base_uri": "https://localhost:8080/",
          "height": 102
        }
      },
      "source": [
        "y_test"
      ],
      "execution_count": 26,
      "outputs": [
        {
          "output_type": "execute_result",
          "data": {
            "text/plain": [
              "array([0, 0, 0, 0, 0, 1, 0, 0, 0, 0, 0, 0, 0, 0, 0, 0, 0, 1, 1, 0, 0, 1,\n",
              "       1, 0, 0, 0, 0, 0, 1, 1, 0, 0, 0, 1, 0, 0, 1, 0, 0, 0, 0, 0, 0, 0,\n",
              "       0, 0, 1, 0, 1, 0, 1, 0, 0, 0, 0, 0, 0, 0, 0, 0, 0, 0, 0, 0, 0, 1,\n",
              "       0, 0, 0, 1, 1, 0, 0, 1, 0, 1, 1, 0, 0, 0, 1, 0, 0, 0, 0, 0, 0, 0,\n",
              "       0, 0, 0, 0, 0, 0, 0, 1, 0, 1, 0, 0, 1, 0])"
            ]
          },
          "metadata": {
            "tags": []
          },
          "execution_count": 26
        }
      ]
    },
    {
      "cell_type": "code",
      "metadata": {
        "id": "zzlK43Mo1QjN",
        "colab_type": "code",
        "outputId": "117bf14d-f7d4-4d77-848e-8cd6f77fbacb",
        "colab": {
          "base_uri": "https://localhost:8080/",
          "height": 269
        }
      },
      "source": [
        "plt.scatter(x_test[:,0], x_test[:,1], c = y_test,  edgecolors='k', cmap=plt.cm.Paired)\n",
        "ax = plt.gca()\n",
        "ax.autoscale = False\n",
        "xvals = np.array(ax.get_xlim())\n",
        "yvals = -(xvals * W[0][0] + b) / W[0][1]\n",
        "plt.plot(xvals, yvals)\n",
        "plt.show()"
      ],
      "execution_count": 27,
      "outputs": [
        {
          "output_type": "display_data",
          "data": {
            "image/png": "[encoded data removed]",
            "text/plain": [
              "<Figure size 432x288 with 1 Axes>"
            ]
          },
          "metadata": {
            "tags": []
          }
        }
      ]
    },
    {
      "cell_type": "markdown",
      "metadata": {
        "id": "1MKMZZ5CizfW",
        "colab_type": "text"
      },
      "source": [
        "Para o conjunto de teste, este modelo é capaz de prever com precisão quais casas são grandes e quais não são."
      ]
    },
    {
      "cell_type": "code",
      "metadata": {
        "id": "fmrjLpAT1epH",
        "colab_type": "code",
        "outputId": "d52bb885-63b2-4406-d21f-87c757609cfe",
        "colab": {
          "base_uri": "https://localhost:8080/",
          "height": 170
        }
      },
      "source": [
        "from sklearn.metrics import classification_report \n",
        "print (classification_report(y_test, y_pred))"
      ],
      "execution_count": 28,
      "outputs": [
        {
          "output_type": "stream",
          "text": [
            "              precision    recall  f1-score   support\n",
            "\n",
            "           0       1.00      1.00      1.00        80\n",
            "           1       1.00      1.00      1.00        22\n",
            "\n",
            "    accuracy                           1.00       102\n",
            "   macro avg       1.00      1.00      1.00       102\n",
            "weighted avg       1.00      1.00      1.00       102\n",
            "\n"
          ],
          "name": "stdout"
        }
      ]
    },
    {
      "cell_type": "markdown",
      "metadata": {
        "id": "mZ0T-53c1fkz",
        "colab_type": "text"
      },
      "source": [
        "**Referências:** <br />\n",
        "https://blog.goodaudience.com/classifying-flowers-using-logistic-regression-in-sci-kit-learn-38262416e4c6 <br/>\n",
        "\n",
        "https://towardsdatascience.com/building-a-logistic-regression-in-python-step-by-step-becd4d56c9c8"
      ]
    }
  ]
}