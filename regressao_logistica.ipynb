{
  "nbformat": 4,
  "nbformat_minor": 0,
  "metadata": {
    "colab": {
      "name": "regressao_logistica.ipynb",
      "version": "0.3.2",
      "provenance": [],
      "collapsed_sections": [],
      "include_colab_link": true
    },
    "kernelspec": {
      "name": "python3",
      "display_name": "Python 3"
    }
  },
  "cells": [
    {
      "cell_type": "markdown",
      "metadata": {
        "id": "view-in-github",
        "colab_type": "text"
      },
      "source": [
        "<a href=\"https://colab.research.google.com/github/nayaras/IA/blob/master/regressao_logistica.ipynb\" target=\"_parent\"><img src=\"https://colab.research.google.com/assets/colab-badge.svg\" alt=\"Open In Colab\"/></a>"
      ]
    },
    {
      "cell_type": "markdown",
      "metadata": {
        "id": "mAU_zon_R6cY",
        "colab_type": "text"
      },
      "source": [
        "# Regressão Logística\n",
        "\n",
        "---\n",
        "Instituto Federal do Norte de Minas Gerais Campus Montes Claros <br/>\n",
        "\n",
        "Disciplina: Inteligência Artificial <br/>\n",
        "Curso: Ciência da Computação  <br/>\n",
        "Professora: Luciana Balieiro Cosme  <br/>\n",
        "Desenvolvido por: Eike Stálei, Marianna Leandra M. Silva, Nayara Thaiza P. Soares \n",
        "\n",
        "\n",
        "---\n",
        "\n",
        "A regressão logística é usada em problemas de classificação binária com os quais o objetivo é separar previsões em duas classes distintas com base em um limite de probabilidade.\n"
      ]
    },
    {
      "cell_type": "code",
      "metadata": {
        "id": "HfNBRzarR0pY",
        "colab_type": "code",
        "outputId": "a964a8e9-18d0-4ea0-fb96-2484a75a43e9",
        "colab": {
          "base_uri": "https://localhost:8080/",
          "height": 904
        }
      },
      "source": [
        "#importações\n",
        "import numpy as np  \n",
        "import pandas as pd  \n",
        "import random\n",
        "import math\n",
        "import operator\n",
        "from numpy import genfromtxt\n",
        "from random import randrange\n",
        "#dados\n",
        "from sklearn import datasets\n",
        "from sklearn.datasets import load_boston\n",
        "#plot\n",
        "import matplotlib.pyplot as plt\n",
        "\n",
        "#regressão logistica\n",
        "from sklearn.linear_model import LogisticRegression\n",
        "from sklearn.metrics import accuracy_score\n",
        "from sklearn.preprocessing import StandardScaler, PolynomialFeatures\n",
        "from sklearn.model_selection import train_test_split, GridSearchCV\n",
        "\n",
        "\n",
        "\n",
        "boston = load_boston()\n",
        "#itens da base\n",
        "boston.keys()\n",
        "\n",
        "print(boston.DESCR)\n",
        "\n",
        "\n",
        "medv = boston.target\n"
      ],
      "execution_count": 1,
      "outputs": [
        {
          "output_type": "stream",
          "text": [
            ".. _boston_dataset:\n",
            "\n",
            "Boston house prices dataset\n",
            "---------------------------\n",
            "\n",
            "**Data Set Characteristics:**  \n",
            "\n",
            "    :Number of Instances: 506 \n",
            "\n",
            "    :Number of Attributes: 13 numeric/categorical predictive. Median Value (attribute 14) is usually the target.\n",
            "\n",
            "    :Attribute Information (in order):\n",
            "        - CRIM     per capita crime rate by town\n",
            "        - ZN       proportion of residential land zoned for lots over 25,000 sq.ft.\n",
            "        - INDUS    proportion of non-retail business acres per town\n",
            "        - CHAS     Charles River dummy variable (= 1 if tract bounds river; 0 otherwise)\n",
            "        - NOX      nitric oxides concentration (parts per 10 million)\n",
            "        - RM       average number of rooms per dwelling\n",
            "        - AGE      proportion of owner-occupied units built prior to 1940\n",
            "        - DIS      weighted distances to five Boston employment centres\n",
            "        - RAD      index of accessibility to radial highways\n",
            "        - TAX      full-value property-tax rate per $10,000\n",
            "        - PTRATIO  pupil-teacher ratio by town\n",
            "        - B        1000(Bk - 0.63)^2 where Bk is the proportion of blacks by town\n",
            "        - LSTAT    % lower status of the population\n",
            "        - MEDV     Median value of owner-occupied homes in $1000's\n",
            "\n",
            "    :Missing Attribute Values: None\n",
            "\n",
            "    :Creator: Harrison, D. and Rubinfeld, D.L.\n",
            "\n",
            "This is a copy of UCI ML housing dataset.\n",
            "https://archive.ics.uci.edu/ml/machine-learning-databases/housing/\n",
            "\n",
            "\n",
            "This dataset was taken from the StatLib library which is maintained at Carnegie Mellon University.\n",
            "\n",
            "The Boston house-price data of Harrison, D. and Rubinfeld, D.L. 'Hedonic\n",
            "prices and the demand for clean air', J. Environ. Economics & Management,\n",
            "vol.5, 81-102, 1978.   Used in Belsley, Kuh & Welsch, 'Regression diagnostics\n",
            "...', Wiley, 1980.   N.B. Various transformations are used in the table on\n",
            "pages 244-261 of the latter.\n",
            "\n",
            "The Boston house-price data has been used in many machine learning papers that address regression\n",
            "problems.   \n",
            "     \n",
            ".. topic:: References\n",
            "\n",
            "   - Belsley, Kuh & Welsch, 'Regression diagnostics: Identifying Influential Data and Sources of Collinearity', Wiley, 1980. 244-261.\n",
            "   - Quinlan,R. (1993). Combining Instance-Based and Model-Based Learning. In Proceedings on the Tenth International Conference of Machine Learning, 236-243, University of Massachusetts, Amherst. Morgan Kaufmann.\n",
            "\n"
          ],
          "name": "stdout"
        }
      ]
    },
    {
      "cell_type": "code",
      "metadata": {
        "id": "AD4837zjV2Dy",
        "colab_type": "code",
        "colab": {}
      },
      "source": [
        "#converte a base de dados\n",
        "import pandas\n",
        "\n",
        "dataset = pandas.DataFrame(boston.data) \n",
        "dataset = dataset.astype('float64') # converte para float\n",
        "dataset.columns = boston.feature_names\n",
        "\n",
        "dataset.head(10)\n",
        "\n",
        "#adicionando o target na base de dados\n",
        "dataset['MEDV'] = medv"
      ],
      "execution_count": 0,
      "outputs": []
    },
    {
      "cell_type": "markdown",
      "metadata": {
        "id": "_ZwIrg9OeudI",
        "colab_type": "text"
      },
      "source": [
        "Adaptando a base boston para ser de classificação\n",
        "Como a base boston não é uma base própria para classificação como a boston, escolhi a coluna RM, que é a média número de cômodos das casas por bairro para discretizar. <br />\n",
        "Para isso, primeiro realizei a verificação do maior número de cômodos, menor e média, entrentanto, ao plotar o gráfico de todos os valores, foi possível perceber que o máximo e o mínimo são pontos de outlier, logo, fiz uma aproximação perto da média."
      ]
    },
    {
      "cell_type": "code",
      "metadata": {
        "id": "lPVaS4zGd8GJ",
        "colab_type": "code",
        "outputId": "82bc7dec-92fa-49dc-f274-7e4b9dc0ba33",
        "colab": {
          "base_uri": "https://localhost:8080/",
          "height": 332
        }
      },
      "source": [
        "#dataset['RM'] = pandas.to_numeric(dataset['RM'])\n",
        "#RM é num de comodos medio por casa\n",
        "print(\"Max: \", max(dataset['RM']))\n",
        "print(\"Min: \", min(dataset['RM']))\n",
        "soma = sum(dataset['RM'])\n",
        "print(\"Média: \", soma/506)\n",
        "\n",
        "for var in ['RM']:\n",
        "    x = dataset[var].values  \n",
        "    plt.plot(x)\n",
        "    plt.title('Variação da média de cômodos por casa')\n",
        "\n",
        "plt.show()"
      ],
      "execution_count": 3,
      "outputs": [
        {
          "output_type": "stream",
          "text": [
            "Max:  8.78\n",
            "Min:  3.561\n",
            "Média:  6.284634387351787\n"
          ],
          "name": "stdout"
        },
        {
          "output_type": "display_data",
          "data": {
            "image/png": "[encoded data removed]",
            "text/plain": [
              "<Figure size 432x288 with 1 Axes>"
            ]
          },
          "metadata": {
            "tags": []
          }
        }
      ]
    },
    {
      "cell_type": "markdown",
      "metadata": {
        "id": "sSb0q-2He5C4",
        "colab_type": "text"
      },
      "source": [
        "**Assim, ficou definido que as casas com média abaixo de 6 cômodos são consideradas casas pequenas (0), as casas com média acima de 6.5 são consideradas casas grandes e entre os dois valores são casas de tamanho médio** <br/>\n",
        "Esta aproximação buscou equilibrar o numero de dados em cada um dos três grupos."
      ]
    },
    {
      "cell_type": "code",
      "metadata": {
        "id": "6_jwZNrjfQuI",
        "colab_type": "code",
        "outputId": "3c2e9271-a366-4979-c2dd-f0fa22510499",
        "colab": {
          "base_uri": "https://localhost:8080/",
          "height": 68
        }
      },
      "source": [
        "maior = dataset[dataset['RM'] > 6.5]['RM'].index.tolist()\n",
        "print(len(maior))\n",
        "menor = dataset[dataset['RM'] < 6]['RM'].index.tolist()\n",
        "print(len(menor))\n",
        "\n",
        "med = dataset['RM'][(dataset['RM'].values > 6) & (dataset['RM'].values < 6.5)].index.tolist()\n",
        "print(len(med))\n",
        "\n",
        "\n",
        "dataset['RM'][menor] = 2  #'CASA_PEQUENA'\n",
        "dataset['RM'][med] = 3 #'CASA_MEDIA'\n",
        "dataset['RM'][maior] = 4 #'CASA_GRANDE'"
      ],
      "execution_count": 4,
      "outputs": [
        {
          "output_type": "stream",
          "text": [
            "152\n",
            "173\n",
            "181\n"
          ],
          "name": "stdout"
        }
      ]
    },
    {
      "cell_type": "code",
      "metadata": {
        "id": "5RP_YuSNfXdR",
        "colab_type": "code",
        "outputId": "ebec7c60-b992-4aae-eed8-c5939bb4cf54",
        "colab": {
          "base_uri": "https://localhost:8080/",
          "height": 393
        }
      },
      "source": [
        "observ = len(boston.data)\n",
        "carac = len(dataset.columns)\n",
        "print(\"Numero de observações (linhas): \" + str(observ))\n",
        "print(\"Numero de caracteristicas: \" + str(carac))\n",
        "\n",
        "\n",
        "comodos_map = {2: 'CASA_PEQUENA', 3: 'CASA_MEDIA', 4: 'CASA_GRANDE'}\n",
        "\n",
        "\n",
        "#mostrando a coluna RM modificada com o nosso filtro.\n",
        "dataset['TIPO'] = dataset['RM'].map(comodos_map)\n",
        "dataset.head(10)\n",
        "\n"
      ],
      "execution_count": 5,
      "outputs": [
        {
          "output_type": "stream",
          "text": [
            "Numero de observações (linhas): 506\n",
            "Numero de caracteristicas: 14\n"
          ],
          "name": "stdout"
        },
        {
          "output_type": "execute_result",
          "data": {
            "text/html": [
              "<div>\n",
              "<style scoped>\n",
              "    .dataframe tbody tr th:only-of-type {\n",
              "        vertical-align: middle;\n",
              "    }\n",
              "\n",
              "    .dataframe tbody tr th {\n",
              "        vertical-align: top;\n",
              "    }\n",
              "\n",
              "    .dataframe thead th {\n",
              "        text-align: right;\n",
              "    }\n",
              "</style>\n",
              "<table border=\"1\" class=\"dataframe\">\n",
              "  <thead>\n",
              "    <tr style=\"text-align: right;\">\n",
              "      <th></th>\n",
              "      <th>CRIM</th>\n",
              "      <th>ZN</th>\n",
              "      <th>INDUS</th>\n",
              "      <th>CHAS</th>\n",
              "      <th>NOX</th>\n",
              "      <th>RM</th>\n",
              "      <th>AGE</th>\n",
              "      <th>DIS</th>\n",
              "      <th>RAD</th>\n",
              "      <th>TAX</th>\n",
              "      <th>PTRATIO</th>\n",
              "      <th>B</th>\n",
              "      <th>LSTAT</th>\n",
              "      <th>MEDV</th>\n",
              "      <th>TIPO</th>\n",
              "    </tr>\n",
              "  </thead>\n",
              "  <tbody>\n",
              "    <tr>\n",
              "      <th>0</th>\n",
              "      <td>0.00632</td>\n",
              "      <td>18.0</td>\n",
              "      <td>2.31</td>\n",
              "      <td>0.0</td>\n",
              "      <td>0.538</td>\n",
              "      <td>4.0</td>\n",
              "      <td>65.2</td>\n",
              "      <td>4.0900</td>\n",
              "      <td>1.0</td>\n",
              "      <td>296.0</td>\n",
              "      <td>15.3</td>\n",
              "      <td>396.90</td>\n",
              "      <td>4.98</td>\n",
              "      <td>24.0</td>\n",
              "      <td>CASA_GRANDE</td>\n",
              "    </tr>\n",
              "    <tr>\n",
              "      <th>1</th>\n",
              "      <td>0.02731</td>\n",
              "      <td>0.0</td>\n",
              "      <td>7.07</td>\n",
              "      <td>0.0</td>\n",
              "      <td>0.469</td>\n",
              "      <td>3.0</td>\n",
              "      <td>78.9</td>\n",
              "      <td>4.9671</td>\n",
              "      <td>2.0</td>\n",
              "      <td>242.0</td>\n",
              "      <td>17.8</td>\n",
              "      <td>396.90</td>\n",
              "      <td>9.14</td>\n",
              "      <td>21.6</td>\n",
              "      <td>CASA_MEDIA</td>\n",
              "    </tr>\n",
              "    <tr>\n",
              "      <th>2</th>\n",
              "      <td>0.02729</td>\n",
              "      <td>0.0</td>\n",
              "      <td>7.07</td>\n",
              "      <td>0.0</td>\n",
              "      <td>0.469</td>\n",
              "      <td>4.0</td>\n",
              "      <td>61.1</td>\n",
              "      <td>4.9671</td>\n",
              "      <td>2.0</td>\n",
              "      <td>242.0</td>\n",
              "      <td>17.8</td>\n",
              "      <td>392.83</td>\n",
              "      <td>4.03</td>\n",
              "      <td>34.7</td>\n",
              "      <td>CASA_GRANDE</td>\n",
              "    </tr>\n",
              "    <tr>\n",
              "      <th>3</th>\n",
              "      <td>0.03237</td>\n",
              "      <td>0.0</td>\n",
              "      <td>2.18</td>\n",
              "      <td>0.0</td>\n",
              "      <td>0.458</td>\n",
              "      <td>4.0</td>\n",
              "      <td>45.8</td>\n",
              "      <td>6.0622</td>\n",
              "      <td>3.0</td>\n",
              "      <td>222.0</td>\n",
              "      <td>18.7</td>\n",
              "      <td>394.63</td>\n",
              "      <td>2.94</td>\n",
              "      <td>33.4</td>\n",
              "      <td>CASA_GRANDE</td>\n",
              "    </tr>\n",
              "    <tr>\n",
              "      <th>4</th>\n",
              "      <td>0.06905</td>\n",
              "      <td>0.0</td>\n",
              "      <td>2.18</td>\n",
              "      <td>0.0</td>\n",
              "      <td>0.458</td>\n",
              "      <td>4.0</td>\n",
              "      <td>54.2</td>\n",
              "      <td>6.0622</td>\n",
              "      <td>3.0</td>\n",
              "      <td>222.0</td>\n",
              "      <td>18.7</td>\n",
              "      <td>396.90</td>\n",
              "      <td>5.33</td>\n",
              "      <td>36.2</td>\n",
              "      <td>CASA_GRANDE</td>\n",
              "    </tr>\n",
              "    <tr>\n",
              "      <th>5</th>\n",
              "      <td>0.02985</td>\n",
              "      <td>0.0</td>\n",
              "      <td>2.18</td>\n",
              "      <td>0.0</td>\n",
              "      <td>0.458</td>\n",
              "      <td>3.0</td>\n",
              "      <td>58.7</td>\n",
              "      <td>6.0622</td>\n",
              "      <td>3.0</td>\n",
              "      <td>222.0</td>\n",
              "      <td>18.7</td>\n",
              "      <td>394.12</td>\n",
              "      <td>5.21</td>\n",
              "      <td>28.7</td>\n",
              "      <td>CASA_MEDIA</td>\n",
              "    </tr>\n",
              "    <tr>\n",
              "      <th>6</th>\n",
              "      <td>0.08829</td>\n",
              "      <td>12.5</td>\n",
              "      <td>7.87</td>\n",
              "      <td>0.0</td>\n",
              "      <td>0.524</td>\n",
              "      <td>3.0</td>\n",
              "      <td>66.6</td>\n",
              "      <td>5.5605</td>\n",
              "      <td>5.0</td>\n",
              "      <td>311.0</td>\n",
              "      <td>15.2</td>\n",
              "      <td>395.60</td>\n",
              "      <td>12.43</td>\n",
              "      <td>22.9</td>\n",
              "      <td>CASA_MEDIA</td>\n",
              "    </tr>\n",
              "    <tr>\n",
              "      <th>7</th>\n",
              "      <td>0.14455</td>\n",
              "      <td>12.5</td>\n",
              "      <td>7.87</td>\n",
              "      <td>0.0</td>\n",
              "      <td>0.524</td>\n",
              "      <td>3.0</td>\n",
              "      <td>96.1</td>\n",
              "      <td>5.9505</td>\n",
              "      <td>5.0</td>\n",
              "      <td>311.0</td>\n",
              "      <td>15.2</td>\n",
              "      <td>396.90</td>\n",
              "      <td>19.15</td>\n",
              "      <td>27.1</td>\n",
              "      <td>CASA_MEDIA</td>\n",
              "    </tr>\n",
              "    <tr>\n",
              "      <th>8</th>\n",
              "      <td>0.21124</td>\n",
              "      <td>12.5</td>\n",
              "      <td>7.87</td>\n",
              "      <td>0.0</td>\n",
              "      <td>0.524</td>\n",
              "      <td>2.0</td>\n",
              "      <td>100.0</td>\n",
              "      <td>6.0821</td>\n",
              "      <td>5.0</td>\n",
              "      <td>311.0</td>\n",
              "      <td>15.2</td>\n",
              "      <td>386.63</td>\n",
              "      <td>29.93</td>\n",
              "      <td>16.5</td>\n",
              "      <td>CASA_PEQUENA</td>\n",
              "    </tr>\n",
              "    <tr>\n",
              "      <th>9</th>\n",
              "      <td>0.17004</td>\n",
              "      <td>12.5</td>\n",
              "      <td>7.87</td>\n",
              "      <td>0.0</td>\n",
              "      <td>0.524</td>\n",
              "      <td>3.0</td>\n",
              "      <td>85.9</td>\n",
              "      <td>6.5921</td>\n",
              "      <td>5.0</td>\n",
              "      <td>311.0</td>\n",
              "      <td>15.2</td>\n",
              "      <td>386.71</td>\n",
              "      <td>17.10</td>\n",
              "      <td>18.9</td>\n",
              "      <td>CASA_MEDIA</td>\n",
              "    </tr>\n",
              "  </tbody>\n",
              "</table>\n",
              "</div>"
            ],
            "text/plain": [
              "      CRIM    ZN  INDUS  CHAS  ...       B  LSTAT  MEDV          TIPO\n",
              "0  0.00632  18.0   2.31   0.0  ...  396.90   4.98  24.0   CASA_GRANDE\n",
              "1  0.02731   0.0   7.07   0.0  ...  396.90   9.14  21.6    CASA_MEDIA\n",
              "2  0.02729   0.0   7.07   0.0  ...  392.83   4.03  34.7   CASA_GRANDE\n",
              "3  0.03237   0.0   2.18   0.0  ...  394.63   2.94  33.4   CASA_GRANDE\n",
              "4  0.06905   0.0   2.18   0.0  ...  396.90   5.33  36.2   CASA_GRANDE\n",
              "5  0.02985   0.0   2.18   0.0  ...  394.12   5.21  28.7    CASA_MEDIA\n",
              "6  0.08829  12.5   7.87   0.0  ...  395.60  12.43  22.9    CASA_MEDIA\n",
              "7  0.14455  12.5   7.87   0.0  ...  396.90  19.15  27.1    CASA_MEDIA\n",
              "8  0.21124  12.5   7.87   0.0  ...  386.63  29.93  16.5  CASA_PEQUENA\n",
              "9  0.17004  12.5   7.87   0.0  ...  386.71  17.10  18.9    CASA_MEDIA\n",
              "\n",
              "[10 rows x 15 columns]"
            ]
          },
          "metadata": {
            "tags": []
          },
          "execution_count": 5
        }
      ]
    },
    {
      "cell_type": "markdown",
      "metadata": {
        "id": "oIzjqehifeLS",
        "colab_type": "text"
      },
      "source": [
        "**Visto que menos caracteristicas fornece um melhor resultado, defini que somente trataria dos dados: <br />\n",
        "RM: Como já dito é a média de cômodos em casas por bairro  <br />\n",
        "AGE: Idades das casas  <br />\n",
        "DIS: Distância do centro da cidade  <br />\n",
        "LSTAT: Status socioeconomico da população em porcentagem  <br />\n",
        "MEDV: Valor mediano das casas ocupadas em milhares <br />**\n",
        "Assim, todas as outras colunas foram removidas do nosso conjunto de dados"
      ]
    },
    {
      "cell_type": "code",
      "metadata": {
        "id": "zcIpZkaZfrPo",
        "colab_type": "code",
        "outputId": "20022c0e-dec9-40f2-c4e8-972d01888ecf",
        "colab": {
          "base_uri": "https://localhost:8080/",
          "height": 204
        }
      },
      "source": [
        "dataset = dataset.drop('CRIM',axis=1)\n",
        "dataset = dataset.drop('ZN',axis=1)\n",
        "dataset = dataset.drop('INDUS',axis=1)\n",
        "dataset = dataset.drop('CHAS',axis=1)\n",
        "dataset = dataset.drop('NOX',axis=1)\n",
        "dataset = dataset.drop('RAD',axis=1)\n",
        "dataset = dataset.drop('TAX',axis=1)\n",
        "dataset = dataset.drop('PTRATIO',axis=1)\n",
        "dataset = dataset.drop('B',axis=1)\n",
        "\n",
        "\n",
        "print(dataset.head(10))\n",
        "X_boston = dataset\n",
        "y_boston = dataset['RM'].values\n",
        "y2 = boston.target\n"
      ],
      "execution_count": 6,
      "outputs": [
        {
          "output_type": "stream",
          "text": [
            "    RM    AGE     DIS  LSTAT  MEDV          TIPO\n",
            "0  4.0   65.2  4.0900   4.98  24.0   CASA_GRANDE\n",
            "1  3.0   78.9  4.9671   9.14  21.6    CASA_MEDIA\n",
            "2  4.0   61.1  4.9671   4.03  34.7   CASA_GRANDE\n",
            "3  4.0   45.8  6.0622   2.94  33.4   CASA_GRANDE\n",
            "4  4.0   54.2  6.0622   5.33  36.2   CASA_GRANDE\n",
            "5  3.0   58.7  6.0622   5.21  28.7    CASA_MEDIA\n",
            "6  3.0   66.6  5.5605  12.43  22.9    CASA_MEDIA\n",
            "7  3.0   96.1  5.9505  19.15  27.1    CASA_MEDIA\n",
            "8  2.0  100.0  6.0821  29.93  16.5  CASA_PEQUENA\n",
            "9  3.0   85.9  6.5921  17.10  18.9    CASA_MEDIA\n"
          ],
          "name": "stdout"
        }
      ]
    },
    {
      "cell_type": "code",
      "metadata": {
        "id": "GlII2Ic5n9-H",
        "colab_type": "code",
        "outputId": "5afd85ea-93e7-439e-ef7b-f6ecb9092138",
        "colab": {
          "base_uri": "https://localhost:8080/",
          "height": 204
        }
      },
      "source": [
        "#misturando os dados\n",
        "perm = np.random.permutation(len(boston.data))\n",
        "dataset = dataset.loc[perm]\n",
        "dataset.head()"
      ],
      "execution_count": 7,
      "outputs": [
        {
          "output_type": "execute_result",
          "data": {
            "text/html": [
              "<div>\n",
              "<style scoped>\n",
              "    .dataframe tbody tr th:only-of-type {\n",
              "        vertical-align: middle;\n",
              "    }\n",
              "\n",
              "    .dataframe tbody tr th {\n",
              "        vertical-align: top;\n",
              "    }\n",
              "\n",
              "    .dataframe thead th {\n",
              "        text-align: right;\n",
              "    }\n",
              "</style>\n",
              "<table border=\"1\" class=\"dataframe\">\n",
              "  <thead>\n",
              "    <tr style=\"text-align: right;\">\n",
              "      <th></th>\n",
              "      <th>RM</th>\n",
              "      <th>AGE</th>\n",
              "      <th>DIS</th>\n",
              "      <th>LSTAT</th>\n",
              "      <th>MEDV</th>\n",
              "      <th>TIPO</th>\n",
              "    </tr>\n",
              "  </thead>\n",
              "  <tbody>\n",
              "    <tr>\n",
              "      <th>371</th>\n",
              "      <td>3.0</td>\n",
              "      <td>100.0</td>\n",
              "      <td>1.1691</td>\n",
              "      <td>9.53</td>\n",
              "      <td>50.0</td>\n",
              "      <td>CASA_MEDIA</td>\n",
              "    </tr>\n",
              "    <tr>\n",
              "      <th>84</th>\n",
              "      <td>3.0</td>\n",
              "      <td>48.0</td>\n",
              "      <td>4.7794</td>\n",
              "      <td>9.62</td>\n",
              "      <td>23.9</td>\n",
              "      <td>CASA_MEDIA</td>\n",
              "    </tr>\n",
              "    <tr>\n",
              "      <th>480</th>\n",
              "      <td>3.0</td>\n",
              "      <td>64.7</td>\n",
              "      <td>3.4242</td>\n",
              "      <td>10.74</td>\n",
              "      <td>23.0</td>\n",
              "      <td>CASA_MEDIA</td>\n",
              "    </tr>\n",
              "    <tr>\n",
              "      <th>169</th>\n",
              "      <td>3.0</td>\n",
              "      <td>95.2</td>\n",
              "      <td>2.2625</td>\n",
              "      <td>11.32</td>\n",
              "      <td>22.3</td>\n",
              "      <td>CASA_MEDIA</td>\n",
              "    </tr>\n",
              "    <tr>\n",
              "      <th>329</th>\n",
              "      <td>3.0</td>\n",
              "      <td>17.2</td>\n",
              "      <td>5.2146</td>\n",
              "      <td>7.34</td>\n",
              "      <td>22.6</td>\n",
              "      <td>CASA_MEDIA</td>\n",
              "    </tr>\n",
              "  </tbody>\n",
              "</table>\n",
              "</div>"
            ],
            "text/plain": [
              "      RM    AGE     DIS  LSTAT  MEDV        TIPO\n",
              "371  3.0  100.0  1.1691   9.53  50.0  CASA_MEDIA\n",
              "84   3.0   48.0  4.7794   9.62  23.9  CASA_MEDIA\n",
              "480  3.0   64.7  3.4242  10.74  23.0  CASA_MEDIA\n",
              "169  3.0   95.2  2.2625  11.32  22.3  CASA_MEDIA\n",
              "329  3.0   17.2  5.2146   7.34  22.6  CASA_MEDIA"
            ]
          },
          "metadata": {
            "tags": []
          },
          "execution_count": 7
        }
      ]
    },
    {
      "cell_type": "markdown",
      "metadata": {
        "id": "XBsyj5Usbb0r",
        "colab_type": "text"
      },
      "source": [
        "**Contabilizando a quantidade de cada tipo de cômodos**"
      ]
    },
    {
      "cell_type": "code",
      "metadata": {
        "id": "25kP_4sRogY2",
        "colab_type": "code",
        "outputId": "29e24c63-0655-4958-8154-1c6e26d61f9a",
        "colab": {
          "base_uri": "https://localhost:8080/",
          "height": 297
        }
      },
      "source": [
        "casa_grande_mask = dataset['TIPO'] == 'CASA_GRANDE'\n",
        "dataset[casa_grande_mask].describe()"
      ],
      "execution_count": 8,
      "outputs": [
        {
          "output_type": "execute_result",
          "data": {
            "text/html": [
              "<div>\n",
              "<style scoped>\n",
              "    .dataframe tbody tr th:only-of-type {\n",
              "        vertical-align: middle;\n",
              "    }\n",
              "\n",
              "    .dataframe tbody tr th {\n",
              "        vertical-align: top;\n",
              "    }\n",
              "\n",
              "    .dataframe thead th {\n",
              "        text-align: right;\n",
              "    }\n",
              "</style>\n",
              "<table border=\"1\" class=\"dataframe\">\n",
              "  <thead>\n",
              "    <tr style=\"text-align: right;\">\n",
              "      <th></th>\n",
              "      <th>RM</th>\n",
              "      <th>AGE</th>\n",
              "      <th>DIS</th>\n",
              "      <th>LSTAT</th>\n",
              "      <th>MEDV</th>\n",
              "    </tr>\n",
              "  </thead>\n",
              "  <tbody>\n",
              "    <tr>\n",
              "      <th>count</th>\n",
              "      <td>152.0</td>\n",
              "      <td>152.000000</td>\n",
              "      <td>152.000000</td>\n",
              "      <td>152.000000</td>\n",
              "      <td>152.000000</td>\n",
              "    </tr>\n",
              "    <tr>\n",
              "      <th>mean</th>\n",
              "      <td>4.0</td>\n",
              "      <td>59.744079</td>\n",
              "      <td>4.325154</td>\n",
              "      <td>7.449737</td>\n",
              "      <td>31.061184</td>\n",
              "    </tr>\n",
              "    <tr>\n",
              "      <th>std</th>\n",
              "      <td>0.0</td>\n",
              "      <td>28.473526</td>\n",
              "      <td>2.219851</td>\n",
              "      <td>4.998417</td>\n",
              "      <td>10.111590</td>\n",
              "    </tr>\n",
              "    <tr>\n",
              "      <th>min</th>\n",
              "      <td>4.0</td>\n",
              "      <td>2.900000</td>\n",
              "      <td>1.202400</td>\n",
              "      <td>1.730000</td>\n",
              "      <td>7.500000</td>\n",
              "    </tr>\n",
              "    <tr>\n",
              "      <th>25%</th>\n",
              "      <td>4.0</td>\n",
              "      <td>33.425000</td>\n",
              "      <td>2.523700</td>\n",
              "      <td>4.432500</td>\n",
              "      <td>24.475000</td>\n",
              "    </tr>\n",
              "    <tr>\n",
              "      <th>50%</th>\n",
              "      <td>4.0</td>\n",
              "      <td>61.800000</td>\n",
              "      <td>3.651900</td>\n",
              "      <td>5.900000</td>\n",
              "      <td>30.400000</td>\n",
              "    </tr>\n",
              "    <tr>\n",
              "      <th>75%</th>\n",
              "      <td>4.0</td>\n",
              "      <td>86.600000</td>\n",
              "      <td>5.903850</td>\n",
              "      <td>8.227500</td>\n",
              "      <td>36.125000</td>\n",
              "    </tr>\n",
              "    <tr>\n",
              "      <th>max</th>\n",
              "      <td>4.0</td>\n",
              "      <td>100.000000</td>\n",
              "      <td>12.126500</td>\n",
              "      <td>25.790000</td>\n",
              "      <td>50.000000</td>\n",
              "    </tr>\n",
              "  </tbody>\n",
              "</table>\n",
              "</div>"
            ],
            "text/plain": [
              "          RM         AGE         DIS       LSTAT        MEDV\n",
              "count  152.0  152.000000  152.000000  152.000000  152.000000\n",
              "mean     4.0   59.744079    4.325154    7.449737   31.061184\n",
              "std      0.0   28.473526    2.219851    4.998417   10.111590\n",
              "min      4.0    2.900000    1.202400    1.730000    7.500000\n",
              "25%      4.0   33.425000    2.523700    4.432500   24.475000\n",
              "50%      4.0   61.800000    3.651900    5.900000   30.400000\n",
              "75%      4.0   86.600000    5.903850    8.227500   36.125000\n",
              "max      4.0  100.000000   12.126500   25.790000   50.000000"
            ]
          },
          "metadata": {
            "tags": []
          },
          "execution_count": 8
        }
      ]
    },
    {
      "cell_type": "code",
      "metadata": {
        "id": "YaMIRtEjo8zv",
        "colab_type": "code",
        "outputId": "2e69140d-76ed-4978-8220-c9f625f37c70",
        "colab": {
          "base_uri": "https://localhost:8080/",
          "height": 297
        }
      },
      "source": [
        "casa_media_mask = dataset['TIPO'] == 'CASA_MEDIA'\n",
        "dataset[casa_media_mask].describe()"
      ],
      "execution_count": 9,
      "outputs": [
        {
          "output_type": "execute_result",
          "data": {
            "text/html": [
              "<div>\n",
              "<style scoped>\n",
              "    .dataframe tbody tr th:only-of-type {\n",
              "        vertical-align: middle;\n",
              "    }\n",
              "\n",
              "    .dataframe tbody tr th {\n",
              "        vertical-align: top;\n",
              "    }\n",
              "\n",
              "    .dataframe thead th {\n",
              "        text-align: right;\n",
              "    }\n",
              "</style>\n",
              "<table border=\"1\" class=\"dataframe\">\n",
              "  <thead>\n",
              "    <tr style=\"text-align: right;\">\n",
              "      <th></th>\n",
              "      <th>RM</th>\n",
              "      <th>AGE</th>\n",
              "      <th>DIS</th>\n",
              "      <th>LSTAT</th>\n",
              "      <th>MEDV</th>\n",
              "    </tr>\n",
              "  </thead>\n",
              "  <tbody>\n",
              "    <tr>\n",
              "      <th>count</th>\n",
              "      <td>181.0</td>\n",
              "      <td>181.000000</td>\n",
              "      <td>181.000000</td>\n",
              "      <td>181.000000</td>\n",
              "      <td>181.000000</td>\n",
              "    </tr>\n",
              "    <tr>\n",
              "      <th>mean</th>\n",
              "      <td>3.0</td>\n",
              "      <td>68.672928</td>\n",
              "      <td>3.852726</td>\n",
              "      <td>12.470663</td>\n",
              "      <td>20.212155</td>\n",
              "    </tr>\n",
              "    <tr>\n",
              "      <th>std</th>\n",
              "      <td>0.0</td>\n",
              "      <td>28.430717</td>\n",
              "      <td>1.979218</td>\n",
              "      <td>5.240595</td>\n",
              "      <td>5.117342</td>\n",
              "    </tr>\n",
              "    <tr>\n",
              "      <th>min</th>\n",
              "      <td>3.0</td>\n",
              "      <td>6.000000</td>\n",
              "      <td>1.169100</td>\n",
              "      <td>3.590000</td>\n",
              "      <td>7.200000</td>\n",
              "    </tr>\n",
              "    <tr>\n",
              "      <th>25%</th>\n",
              "      <td>3.0</td>\n",
              "      <td>45.800000</td>\n",
              "      <td>2.206000</td>\n",
              "      <td>8.200000</td>\n",
              "      <td>17.500000</td>\n",
              "    </tr>\n",
              "    <tr>\n",
              "      <th>50%</th>\n",
              "      <td>3.0</td>\n",
              "      <td>79.700000</td>\n",
              "      <td>3.262800</td>\n",
              "      <td>11.970000</td>\n",
              "      <td>21.100000</td>\n",
              "    </tr>\n",
              "    <tr>\n",
              "      <th>75%</th>\n",
              "      <td>3.0</td>\n",
              "      <td>93.600000</td>\n",
              "      <td>5.400700</td>\n",
              "      <td>15.550000</td>\n",
              "      <td>23.200000</td>\n",
              "    </tr>\n",
              "    <tr>\n",
              "      <th>max</th>\n",
              "      <td>3.0</td>\n",
              "      <td>100.000000</td>\n",
              "      <td>9.220300</td>\n",
              "      <td>29.050000</td>\n",
              "      <td>50.000000</td>\n",
              "    </tr>\n",
              "  </tbody>\n",
              "</table>\n",
              "</div>"
            ],
            "text/plain": [
              "          RM         AGE         DIS       LSTAT        MEDV\n",
              "count  181.0  181.000000  181.000000  181.000000  181.000000\n",
              "mean     3.0   68.672928    3.852726   12.470663   20.212155\n",
              "std      0.0   28.430717    1.979218    5.240595    5.117342\n",
              "min      3.0    6.000000    1.169100    3.590000    7.200000\n",
              "25%      3.0   45.800000    2.206000    8.200000   17.500000\n",
              "50%      3.0   79.700000    3.262800   11.970000   21.100000\n",
              "75%      3.0   93.600000    5.400700   15.550000   23.200000\n",
              "max      3.0  100.000000    9.220300   29.050000   50.000000"
            ]
          },
          "metadata": {
            "tags": []
          },
          "execution_count": 9
        }
      ]
    },
    {
      "cell_type": "code",
      "metadata": {
        "id": "MeKmtNXHpHUI",
        "colab_type": "code",
        "outputId": "87bd46d3-567e-4e7c-d914-7fcf9e277f9c",
        "colab": {
          "base_uri": "https://localhost:8080/",
          "height": 297
        }
      },
      "source": [
        "casa_pequena_mask = dataset['TIPO'] == 'CASA_PEQUENA'\n",
        "dataset[casa_pequena_mask].describe()"
      ],
      "execution_count": 10,
      "outputs": [
        {
          "output_type": "execute_result",
          "data": {
            "text/html": [
              "<div>\n",
              "<style scoped>\n",
              "    .dataframe tbody tr th:only-of-type {\n",
              "        vertical-align: middle;\n",
              "    }\n",
              "\n",
              "    .dataframe tbody tr th {\n",
              "        vertical-align: top;\n",
              "    }\n",
              "\n",
              "    .dataframe thead th {\n",
              "        text-align: right;\n",
              "    }\n",
              "</style>\n",
              "<table border=\"1\" class=\"dataframe\">\n",
              "  <thead>\n",
              "    <tr style=\"text-align: right;\">\n",
              "      <th></th>\n",
              "      <th>RM</th>\n",
              "      <th>AGE</th>\n",
              "      <th>DIS</th>\n",
              "      <th>LSTAT</th>\n",
              "      <th>MEDV</th>\n",
              "    </tr>\n",
              "  </thead>\n",
              "  <tbody>\n",
              "    <tr>\n",
              "      <th>count</th>\n",
              "      <td>173.0</td>\n",
              "      <td>173.000000</td>\n",
              "      <td>173.000000</td>\n",
              "      <td>173.000000</td>\n",
              "      <td>173.000000</td>\n",
              "    </tr>\n",
              "    <tr>\n",
              "      <th>mean</th>\n",
              "      <td>2.0</td>\n",
              "      <td>76.231214</td>\n",
              "      <td>3.268929</td>\n",
              "      <td>17.415607</td>\n",
              "      <td>17.467630</td>\n",
              "    </tr>\n",
              "    <tr>\n",
              "      <th>std</th>\n",
              "      <td>0.0</td>\n",
              "      <td>25.315182</td>\n",
              "      <td>2.015596</td>\n",
              "      <td>7.229999</td>\n",
              "      <td>5.952828</td>\n",
              "    </tr>\n",
              "    <tr>\n",
              "      <th>min</th>\n",
              "      <td>2.0</td>\n",
              "      <td>9.800000</td>\n",
              "      <td>1.129600</td>\n",
              "      <td>3.260000</td>\n",
              "      <td>5.000000</td>\n",
              "    </tr>\n",
              "    <tr>\n",
              "      <th>25%</th>\n",
              "      <td>2.0</td>\n",
              "      <td>59.600000</td>\n",
              "      <td>1.755400</td>\n",
              "      <td>12.120000</td>\n",
              "      <td>13.800000</td>\n",
              "    </tr>\n",
              "    <tr>\n",
              "      <th>50%</th>\n",
              "      <td>2.0</td>\n",
              "      <td>88.400000</td>\n",
              "      <td>2.469900</td>\n",
              "      <td>15.840000</td>\n",
              "      <td>18.400000</td>\n",
              "    </tr>\n",
              "    <tr>\n",
              "      <th>75%</th>\n",
              "      <td>2.0</td>\n",
              "      <td>96.700000</td>\n",
              "      <td>4.098300</td>\n",
              "      <td>21.450000</td>\n",
              "      <td>20.400000</td>\n",
              "    </tr>\n",
              "    <tr>\n",
              "      <th>max</th>\n",
              "      <td>2.0</td>\n",
              "      <td>100.000000</td>\n",
              "      <td>10.710300</td>\n",
              "      <td>37.970000</td>\n",
              "      <td>50.000000</td>\n",
              "    </tr>\n",
              "  </tbody>\n",
              "</table>\n",
              "</div>"
            ],
            "text/plain": [
              "          RM         AGE         DIS       LSTAT        MEDV\n",
              "count  173.0  173.000000  173.000000  173.000000  173.000000\n",
              "mean     2.0   76.231214    3.268929   17.415607   17.467630\n",
              "std      0.0   25.315182    2.015596    7.229999    5.952828\n",
              "min      2.0    9.800000    1.129600    3.260000    5.000000\n",
              "25%      2.0   59.600000    1.755400   12.120000   13.800000\n",
              "50%      2.0   88.400000    2.469900   15.840000   18.400000\n",
              "75%      2.0   96.700000    4.098300   21.450000   20.400000\n",
              "max      2.0  100.000000   10.710300   37.970000   50.000000"
            ]
          },
          "metadata": {
            "tags": []
          },
          "execution_count": 10
        }
      ]
    },
    {
      "cell_type": "code",
      "metadata": {
        "id": "jD7xSEwap8I3",
        "colab_type": "code",
        "outputId": "b15a6e1f-5dd5-45f2-90e6-5d1b1befc905",
        "colab": {
          "base_uri": "https://localhost:8080/",
          "height": 283
        }
      },
      "source": [
        "\n",
        "#Exemplo\n",
        "plt.scatter(X_boston.iloc[:, 0], X_boston.iloc[:, 3], c=y_boston, edgecolors='k', cmap=plt.cm.Paired)\n",
        "plt.xlabel('RM')\n",
        "plt.ylabel('LSTAT')\n",
        "\n",
        "\n",
        "#plt.xticks(())\n",
        "#plt.yticks(())\n",
        "\n",
        "plt.show()\n",
        "\n"
      ],
      "execution_count": 11,
      "outputs": [
        {
          "output_type": "display_data",
          "data": {
            "image/png": "[encoded data removed]",
            "text/plain": [
              "<Figure size 432x288 with 1 Axes>"
            ]
          },
          "metadata": {
            "tags": []
          }
        }
      ]
    },
    {
      "cell_type": "markdown",
      "metadata": {
        "id": "z9ug7p_9LEmp",
        "colab_type": "text"
      },
      "source": [
        "**Gráfico da porcentagem na vizinhança considerado \"classe baixa\" (eixo x) pelo valor mediano das casas ocupadas em milhares (eixo y) colorido de acordo com o tipo de casa (RM)**\n",
        "\n",
        "\n"
      ]
    },
    {
      "cell_type": "code",
      "metadata": {
        "id": "LMAhuRk3xJSI",
        "colab_type": "code",
        "outputId": "d033a118-e763-4a92-879a-b517db5709ce",
        "colab": {
          "base_uri": "https://localhost:8080/",
          "height": 283
        }
      },
      "source": [
        "\n",
        "plt.scatter(X_boston.iloc[:, 3], X_boston.iloc[:, 4], c=y_boston, edgecolors='k', cmap=plt.cm.Paired)\n",
        "plt.xlabel('LSTAT') \n",
        "plt.ylabel('MEDV') \n",
        "\n",
        "#plt.xticks(())\n",
        "#plt.yticks(())\n",
        "\n",
        "plt.show()"
      ],
      "execution_count": 12,
      "outputs": [
        {
          "output_type": "display_data",
          "data": {
            "image/png": "[encoded data removed]",
            "text/plain": [
              "<Figure size 432x288 with 1 Axes>"
            ]
          },
          "metadata": {
            "tags": []
          }
        }
      ]
    },
    {
      "cell_type": "markdown",
      "metadata": {
        "id": "kZYOnVxBeHkK",
        "colab_type": "text"
      },
      "source": [
        "\n",
        "\n",
        "\n",
        "**Refinando y binário pela coluna RM, classificaremos nossa base em ser casa grande ou não (todas as casas grandes serão 1 e o resto 0).**\n"
      ]
    },
    {
      "cell_type": "code",
      "metadata": {
        "id": "N5nyn3qpsLUu",
        "colab_type": "code",
        "outputId": "ee052e7a-3ee6-443d-9b1c-5c0b13aa504c",
        "colab": {
          "base_uri": "https://localhost:8080/",
          "height": 34
        }
      },
      "source": [
        "X_boston = np.c_[X_boston.iloc[:, 3], X_boston.iloc[:, 4]]\n",
        "y = []\n",
        "\n",
        "for i in range(len(y_boston)):\n",
        "  if y_boston[i] > 3:\n",
        "    y.append(1)\n",
        "  else:\n",
        "    y.append(0)\n",
        "    \n",
        "    \n",
        "\n",
        "print('Tamanho de y: ', len(y))\n",
        "y = np.array(y)\n"
      ],
      "execution_count": 13,
      "outputs": [
        {
          "output_type": "stream",
          "text": [
            "Tamanho de y:  506\n"
          ],
          "name": "stdout"
        }
      ]
    },
    {
      "cell_type": "code",
      "metadata": {
        "id": "t2WmyDZePMrt",
        "colab_type": "code",
        "colab": {
          "base_uri": "https://localhost:8080/",
          "height": 283
        },
        "outputId": "39f97f65-8cc5-43d5-e360-7c3e7510a3d3"
      },
      "source": [
        "\n",
        "#Plotando com nova classe de tipos de casa\n",
        "#Marrom é casa grande e azul não grande (pequenas e médias)\n",
        "plt.scatter(X_boston[:, 0], X_boston[:, 1], c=y, edgecolors='k', cmap=plt.cm.Paired)\n",
        "plt.xlabel('LSTAT') \n",
        "plt.ylabel('MEDV') \n",
        "\n",
        "#plt.xticks(())\n",
        "#plt.yticks(())\n",
        "\n",
        "plt.show()"
      ],
      "execution_count": 14,
      "outputs": [
        {
          "output_type": "display_data",
          "data": {
            "image/png": "[encoded data removed]",
            "text/plain": [
              "<Figure size 432x288 with 1 Axes>"
            ]
          },
          "metadata": {
            "tags": []
          }
        }
      ]
    },
    {
      "cell_type": "markdown",
      "metadata": {
        "id": "tVbFrOaogPsn",
        "colab_type": "text"
      },
      "source": [
        "Agora vamos separar o conjunto de treinamento/teste para usar o modelo de Regressão Logística.<br />\n",
        "O conjunto de treinamento será composto por 80% da base e o conjunto de teste por 20% da base."
      ]
    },
    {
      "cell_type": "code",
      "metadata": {
        "id": "7VIQKiBizVcj",
        "colab_type": "code",
        "colab": {}
      },
      "source": [
        "x_train, x_test = X_boston[perm][102:], X_boston[perm][:102]\n",
        "y_train, y_test = y[perm][102:], y[perm][:102]"
      ],
      "execution_count": 0,
      "outputs": []
    },
    {
      "cell_type": "code",
      "metadata": {
        "id": "BTLR8ci3zsc0",
        "colab_type": "code",
        "outputId": "152558ab-064c-4b97-faf3-587fe897faae",
        "colab": {
          "base_uri": "https://localhost:8080/",
          "height": 34
        }
      },
      "source": [
        "x_train.shape, y_train.shape, x_test.shape, y_test.shape"
      ],
      "execution_count": 16,
      "outputs": [
        {
          "output_type": "execute_result",
          "data": {
            "text/plain": [
              "((404, 2), (404,), (102, 2), (102,))"
            ]
          },
          "metadata": {
            "tags": []
          },
          "execution_count": 16
        }
      ]
    },
    {
      "cell_type": "code",
      "metadata": {
        "id": "AyGvM5MJz43r",
        "colab_type": "code",
        "colab": {}
      },
      "source": [
        "#chamando a função de regressão logistica do sklearn\n",
        "log_reg = LogisticRegression(solver='lbfgs')"
      ],
      "execution_count": 0,
      "outputs": []
    },
    {
      "cell_type": "code",
      "metadata": {
        "id": "xNctV0bYz_-W",
        "colab_type": "code",
        "outputId": "8be00eb8-96c5-466c-f92c-85f9457334f5",
        "colab": {
          "base_uri": "https://localhost:8080/",
          "height": 102
        }
      },
      "source": [
        "#log_reg.fit(X_boston, y)\n",
        "#treinando os dados\n",
        "log_reg.fit(x_train,y_train)\n",
        "\n"
      ],
      "execution_count": 18,
      "outputs": [
        {
          "output_type": "execute_result",
          "data": {
            "text/plain": [
              "LogisticRegression(C=1.0, class_weight=None, dual=False, fit_intercept=True,\n",
              "                   intercept_scaling=1, l1_ratio=None, max_iter=100,\n",
              "                   multi_class='warn', n_jobs=None, penalty='l2',\n",
              "                   random_state=None, solver='lbfgs', tol=0.0001, verbose=0,\n",
              "                   warm_start=False)"
            ]
          },
          "metadata": {
            "tags": []
          },
          "execution_count": 18
        }
      ]
    },
    {
      "cell_type": "code",
      "metadata": {
        "id": "ikBweYrYh4o9",
        "colab_type": "code",
        "colab": {}
      },
      "source": [
        "#calculando o y predito\n",
        "y_pred = log_reg.predict(x_test)"
      ],
      "execution_count": 0,
      "outputs": []
    },
    {
      "cell_type": "code",
      "metadata": {
        "id": "uYjhyv7uRMpd",
        "colab_type": "code",
        "outputId": "48779895-89ed-4a0f-abfc-7c7e1ad2eb30",
        "colab": {
          "base_uri": "https://localhost:8080/",
          "height": 51
        }
      },
      "source": [
        "# import the metrics class\n",
        "from sklearn import metrics\n",
        "cnf_matrix = metrics.confusion_matrix(y_test, y_pred)\n",
        "cnf_matrix"
      ],
      "execution_count": 20,
      "outputs": [
        {
          "output_type": "execute_result",
          "data": {
            "text/plain": [
              "array([[66,  3],\n",
              "       [ 8, 25]])"
            ]
          },
          "metadata": {
            "tags": []
          },
          "execution_count": 20
        }
      ]
    },
    {
      "cell_type": "code",
      "metadata": {
        "id": "QfV_80_q0Lez",
        "colab_type": "code",
        "outputId": "66f19ab7-e0f1-47b5-f0a0-9f19faf8ecf8",
        "colab": {
          "base_uri": "https://localhost:8080/",
          "height": 34
        }
      },
      "source": [
        "W, b = log_reg.coef_, log_reg.intercept_\n",
        "W, b"
      ],
      "execution_count": 21,
      "outputs": [
        {
          "output_type": "execute_result",
          "data": {
            "text/plain": [
              "(array([[-0.04893582,  0.20724345]]), array([-5.16512269]))"
            ]
          },
          "metadata": {
            "tags": []
          },
          "execution_count": 21
        }
      ]
    },
    {
      "cell_type": "markdown",
      "metadata": {
        "id": "vdYCOJ-Jg4QC",
        "colab_type": "text"
      },
      "source": [
        "Seguindo a forma linear Y = Mx + b, podemos ver agora que a equação linear para nosso limite de decisão é LSTAT * (-0,...) + MEDV * (0,...) + (-4,...). \n",
        "\n",
        "**Abaixo**, chamamos os primeiros 10 resultados de probab, que retornam a probabilidade prevista de cada ponto de dados. "
      ]
    },
    {
      "cell_type": "code",
      "metadata": {
        "id": "OVHwurPa0VvQ",
        "colab_type": "code",
        "colab": {}
      },
      "source": [
        "probab = []\n",
        "for i in range(len(x_train)):\n",
        "  probab.append( log_reg.predict_proba(x_train)[i])\n",
        "  \n"
      ],
      "execution_count": 0,
      "outputs": []
    },
    {
      "cell_type": "code",
      "metadata": {
        "id": "s_YGnkBx0dKs",
        "colab_type": "code",
        "outputId": "4ee1ee8f-3533-484b-ae4d-7732d121d96a",
        "colab": {
          "base_uri": "https://localhost:8080/",
          "height": 187
        }
      },
      "source": [
        "#o primeiro valor retorna a probabilidade de não ser casa grande e o segundo a probabilidade de ser\n",
        "probab[0:10]"
      ],
      "execution_count": 23,
      "outputs": [
        {
          "output_type": "execute_result",
          "data": {
            "text/plain": [
              "[array([0.76081024, 0.23918976]),\n",
              " array([0.98760947, 0.01239053]),\n",
              " array([0.74559541, 0.25440459]),\n",
              " array([0.00938562, 0.99061438]),\n",
              " array([0.63045022, 0.36954978]),\n",
              " array([0.84788427, 0.15211573]),\n",
              " array([0.24236143, 0.75763857]),\n",
              " array([0.87433362, 0.12566638]),\n",
              " array([0.85063756, 0.14936244]),\n",
              " array([0.98162389, 0.01837611])]"
            ]
          },
          "metadata": {
            "tags": []
          },
          "execution_count": 23
        }
      ]
    },
    {
      "cell_type": "markdown",
      "metadata": {
        "id": "yMmnImlXiPhg",
        "colab_type": "text"
      },
      "source": [
        "**Gráfico de dispersão da probabilidade**"
      ]
    },
    {
      "cell_type": "code",
      "metadata": {
        "id": "9EolLxO70h9j",
        "colab_type": "code",
        "outputId": "ed9f931f-aaaf-49c4-9d92-4acd7029f562",
        "colab": {
          "base_uri": "https://localhost:8080/",
          "height": 269
        }
      },
      "source": [
        "plt.scatter(x_train[:,0], x_train[:,1], c = y_train,  edgecolors='k', cmap=plt.cm.Paired)\n",
        "ax = plt.gca()\n",
        "ax.autoscale = False\n",
        "xvals = np.array(ax.get_xlim())\n",
        "yvals = -(xvals * W[0][0] + b) / W[0][1]\n",
        "plt.plot(xvals, yvals)\n",
        "plt.show()\n",
        "#marrom é casa grande\n",
        "#azul é casa não grande (pequenas e médias)"
      ],
      "execution_count": 24,
      "outputs": [
        {
          "output_type": "display_data",
          "data": {
            "image/png": "[encoded data removed]",
            "text/plain": [
              "<Figure size 432x288 with 1 Axes>"
            ]
          },
          "metadata": {
            "tags": []
          }
        }
      ]
    },
    {
      "cell_type": "markdown",
      "metadata": {
        "id": "_CRZP-QYigN2",
        "colab_type": "text"
      },
      "source": [
        "Podemos ver que fomos capazes de separar (não perfeitamente, mas de maneira eficaz) as duas classes usando nosso limite de decisão de regressão logística. A linha representa o limite de 50% de chance, ou seja, quanto mais longe o ponto de dados, maior a probabilidade de o item ser uma determinada classe. <br />\n",
        "**Vamos agora prever o nosso conjunto de testes.**\n",
        "\n"
      ]
    },
    {
      "cell_type": "code",
      "metadata": {
        "id": "lay-kPHx1EXE",
        "colab_type": "code",
        "outputId": "3e51349b-3485-4894-ec49-c3c6c8c58f18",
        "colab": {
          "base_uri": "https://localhost:8080/",
          "height": 102
        }
      },
      "source": [
        "#mostrando o y predito\n",
        "y_pred"
      ],
      "execution_count": 25,
      "outputs": [
        {
          "output_type": "execute_result",
          "data": {
            "text/plain": [
              "array([1, 0, 0, 0, 0, 0, 1, 1, 0, 0, 1, 0, 0, 1, 0, 0, 0, 1, 0, 0, 0, 0,\n",
              "       0, 0, 0, 1, 1, 0, 0, 0, 0, 0, 0, 0, 0, 0, 0, 0, 0, 1, 0, 1, 0, 0,\n",
              "       0, 0, 1, 0, 1, 1, 0, 0, 0, 1, 0, 0, 0, 1, 1, 0, 1, 0, 0, 0, 0, 0,\n",
              "       1, 0, 1, 0, 0, 0, 1, 0, 1, 1, 1, 1, 0, 1, 0, 0, 0, 0, 0, 0, 0, 0,\n",
              "       0, 0, 0, 0, 1, 0, 0, 0, 0, 0, 1, 0, 1, 0])"
            ]
          },
          "metadata": {
            "tags": []
          },
          "execution_count": 25
        }
      ]
    },
    {
      "cell_type": "code",
      "metadata": {
        "id": "Wd7Jv38r1Nvi",
        "colab_type": "code",
        "outputId": "5d5df422-ffb4-4031-8ade-c1e6ace48232",
        "colab": {
          "base_uri": "https://localhost:8080/",
          "height": 102
        }
      },
      "source": [
        "#mostrando o y original\n",
        "y_test"
      ],
      "execution_count": 26,
      "outputs": [
        {
          "output_type": "execute_result",
          "data": {
            "text/plain": [
              "array([0, 0, 0, 0, 0, 0, 1, 1, 0, 0, 1, 0, 0, 1, 0, 0, 1, 1, 1, 0, 0, 1,\n",
              "       0, 0, 0, 1, 1, 1, 0, 0, 0, 0, 0, 0, 0, 0, 0, 1, 0, 1, 0, 1, 0, 0,\n",
              "       0, 1, 1, 0, 1, 0, 0, 0, 0, 1, 0, 0, 0, 1, 1, 1, 1, 0, 0, 0, 0, 0,\n",
              "       1, 0, 1, 0, 0, 0, 1, 0, 1, 1, 1, 1, 0, 1, 0, 0, 0, 0, 1, 0, 0, 0,\n",
              "       0, 0, 0, 0, 1, 0, 0, 0, 0, 0, 1, 0, 0, 0])"
            ]
          },
          "metadata": {
            "tags": []
          },
          "execution_count": 26
        }
      ]
    },
    {
      "cell_type": "code",
      "metadata": {
        "id": "zzlK43Mo1QjN",
        "colab_type": "code",
        "outputId": "8f83c017-419a-40f7-87e8-0987472314fd",
        "colab": {
          "base_uri": "https://localhost:8080/",
          "height": 269
        }
      },
      "source": [
        "#Plotando o conjunto de teste\n",
        "plt.scatter(x_test[:,0], x_test[:,1], c = y_test,  edgecolors='k', cmap=plt.cm.Paired)\n",
        "ax = plt.gca()\n",
        "ax.autoscale = False\n",
        "xvals = np.array(ax.get_xlim())\n",
        "yvals = -(xvals * W[0][0] + b) / W[0][1]\n",
        "plt.plot(xvals, yvals)\n",
        "plt.show()"
      ],
      "execution_count": 27,
      "outputs": [
        {
          "output_type": "display_data",
          "data": {
            "image/png": "[encoded data removed]",
            "text/plain": [
              "<Figure size 432x288 with 1 Axes>"
            ]
          },
          "metadata": {
            "tags": []
          }
        }
      ]
    },
    {
      "cell_type": "code",
      "metadata": {
        "id": "fmrjLpAT1epH",
        "colab_type": "code",
        "outputId": "dca6a369-0066-496a-e824-5ad4eb4db530",
        "colab": {
          "base_uri": "https://localhost:8080/",
          "height": 170
        }
      },
      "source": [
        "#mostrando as estatisticas \n",
        "from sklearn.metrics import classification_report \n",
        "print (classification_report(y_test, y_pred))"
      ],
      "execution_count": 28,
      "outputs": [
        {
          "output_type": "stream",
          "text": [
            "              precision    recall  f1-score   support\n",
            "\n",
            "           0       0.89      0.96      0.92        69\n",
            "           1       0.89      0.76      0.82        33\n",
            "\n",
            "    accuracy                           0.89       102\n",
            "   macro avg       0.89      0.86      0.87       102\n",
            "weighted avg       0.89      0.89      0.89       102\n",
            "\n"
          ],
          "name": "stdout"
        }
      ]
    },
    {
      "cell_type": "markdown",
      "metadata": {
        "id": "mZ0T-53c1fkz",
        "colab_type": "text"
      },
      "source": [
        "**Referências:** <br />\n",
        "https://blog.goodaudience.com/classifying-flowers-using-logistic-regression-in-sci-kit-learn-38262416e4c6 <br/>\n",
        "\n",
        "https://towardsdatascience.com/building-a-logistic-regression-in-python-step-by-step-becd4d56c9c8"
      ]
    }
  ]
}