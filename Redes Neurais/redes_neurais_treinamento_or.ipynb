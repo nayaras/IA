{
 "cells": [
  {
   "cell_type": "markdown",
   "metadata": {},
   "source": [
    "**Inteligência Artificial**<br/>\n",
    "Nayara Thaiza P. Soares @nayaras <br/>\n",
    "1. Quantas épocas foram necessárias para os pesos serem encontradas? <br/>\n",
    "    0.01  0.02  -0.02 <br/>\n",
    "2. Qual a iteração necessária para representar um porta OR? <br/>"
   ]
  },
  {
   "cell_type": "code",
   "execution_count": 2,
   "metadata": {},
   "outputs": [
    {
     "name": "stdout",
     "output_type": "stream",
     "text": [
      "[array([1, 1]), array([1, 0]), array([0, 1]), array([0, 0])]\n"
     ]
    }
   ],
   "source": [
    "import numpy as np\n",
    "entrada = []\n",
    "entrada.append(np.array([1, 1]))\n",
    "entrada.append(np.array([1, 0]))\n",
    "entrada.append(np.array([0, 1]))\n",
    "entrada.append(np.array([0, 0]))\n",
    "print(entrada)"
   ]
  },
  {
   "cell_type": "code",
   "execution_count": 4,
   "metadata": {},
   "outputs": [
    {
     "name": "stdout",
     "output_type": "stream",
     "text": [
      "[1 1 1 0]\n"
     ]
    }
   ],
   "source": [
    "saida = np.array([1, 1, 1, 0])\n",
    "print(saida)"
   ]
  },
  {
   "cell_type": "code",
   "execution_count": 5,
   "metadata": {},
   "outputs": [
    {
     "name": "stdout",
     "output_type": "stream",
     "text": [
      "2\n"
     ]
    }
   ],
   "source": [
    "epocas=100\n",
    "learning_rate = 0.01\n",
    "no_entradas = len(entrada[0])\n",
    "\n",
    "print(no_entradas)"
   ]
  },
  {
   "cell_type": "code",
   "execution_count": 6,
   "metadata": {},
   "outputs": [],
   "source": [
    "pesos = np.zeros(no_entradas + 1)"
   ]
  },
  {
   "cell_type": "code",
   "execution_count": 7,
   "metadata": {},
   "outputs": [
    {
     "data": {
      "text/plain": [
       "0"
      ]
     },
     "execution_count": 7,
     "metadata": {},
     "output_type": "execute_result"
    }
   ],
   "source": [
    "def predict(e,p):\n",
    "    #np.dot produto dos vetores a x b\n",
    "    soma = 0\n",
    "    #print(p[:no_entradas])\n",
    "    soma = np.dot(e, p[:no_entradas])\n",
    "    #ao final soma o bias\n",
    "    soma = soma + pesos[no_entradas]\n",
    "    if soma > 0:\n",
    "        activacao = 1\n",
    "    else:\n",
    "        activacao = 0\n",
    "    return activacao\n",
    "\n",
    "predict(entrada[1], pesos)"
   ]
  },
  {
   "cell_type": "code",
   "execution_count": 10,
   "metadata": {},
   "outputs": [],
   "source": [
    "def train():\n",
    "    for _ in range(epocas):\n",
    "        xy = zip(entrada, saida)\n",
    "        for inputs, label in xy:\n",
    "            prediction = predict(inputs, pesos)\n",
    "            pesos[0] += learning_rate * (label - prediction) * inputs[0]\n",
    "            pesos[1] += learning_rate * (label - prediction) * inputs[1]\n",
    "            pesos[2] += learning_rate * (label - prediction)\n",
    "\n",
    "train()"
   ]
  },
  {
   "cell_type": "code",
   "execution_count": 11,
   "metadata": {},
   "outputs": [
    {
     "data": {
      "text/plain": [
       "array([0.01, 0.01, 0.  ])"
      ]
     },
     "execution_count": 11,
     "metadata": {},
     "output_type": "execute_result"
    }
   ],
   "source": [
    "pesos"
   ]
  },
  {
   "cell_type": "code",
   "execution_count": null,
   "metadata": {},
   "outputs": [],
   "source": []
  }
 ],
 "metadata": {
  "kernelspec": {
   "display_name": "Python 3",
   "language": "python",
   "name": "python3"
  },
  "language_info": {
   "codemirror_mode": {
    "name": "ipython",
    "version": 3
   },
   "file_extension": ".py",
   "mimetype": "text/x-python",
   "name": "python",
   "nbconvert_exporter": "python",
   "pygments_lexer": "ipython3",
   "version": "3.6.5"
  }
 },
 "nbformat": 4,
 "nbformat_minor": 2
}
